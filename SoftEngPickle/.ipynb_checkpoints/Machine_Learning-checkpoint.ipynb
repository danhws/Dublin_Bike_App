{
 "cells": [
  {
   "cell_type": "markdown",
   "id": "f8d2e0e4",
   "metadata": {},
   "source": [
    "# Machine Learning\n",
    "\n",
    "The purpose of this notebook is to predict the number of available bikes at a given station based on the time and date inputted by the user. Code was adapted from the labs for COMP47350.\n",
    "\n",
    "Due to the little correlation between weather and bike data, the decision was made to omit all weather data for this section."
   ]
  },
  {
   "cell_type": "code",
   "execution_count": 125,
   "id": "3b34cafd",
   "metadata": {},
   "outputs": [],
   "source": [
    "import pandas as pd\n",
    "import os\n",
    "import sys\n",
    "import mysql.connector\n",
    "\n",
    "from sklearn.linear_model import LinearRegression\n",
    "from sklearn.model_selection import train_test_split\n",
    "from sklearn import metrics\n",
    "from sklearn.model_selection import cross_validate\n",
    "from sklearn.model_selection import cross_val_score \n",
    "from sklearn.tree import DecisionTreeClassifier\n",
    "from sklearn.metrics import accuracy_score\n",
    "from sklearn.ensemble import RandomForestRegressor\n",
    "\n",
    "import joblib\n",
    "from joblib import load, dump\n",
    "import pickle\n",
    "import json"
   ]
  },
  {
   "cell_type": "code",
   "execution_count": 13,
   "id": "09546a53",
   "metadata": {},
   "outputs": [],
   "source": [
    "mydb = mysql.connector.connect(\n",
    "host=\"dbbikes.cpwzqhmscagf.eu-west-1.rds.amazonaws.com\",\n",
    "user=\"group20\",\n",
    "password=\"30830Group20\",\n",
    "database=\"dBikes\"\n",
    ")\n",
    "query = \"SELECT * FROM Bikes;\"\n",
    "bikes_df = pd.read_sql(query, mydb)\n",
    "mydb.close()\n",
    "#mycursor = mydb.cursor()"
   ]
  },
  {
   "cell_type": "code",
   "execution_count": 155,
   "id": "736fca39",
   "metadata": {},
   "outputs": [
    {
     "data": {
      "text/html": [
       "<div>\n",
       "<style scoped>\n",
       "    .dataframe tbody tr th:only-of-type {\n",
       "        vertical-align: middle;\n",
       "    }\n",
       "\n",
       "    .dataframe tbody tr th {\n",
       "        vertical-align: top;\n",
       "    }\n",
       "\n",
       "    .dataframe thead th {\n",
       "        text-align: right;\n",
       "    }\n",
       "</style>\n",
       "<table border=\"1\" class=\"dataframe\">\n",
       "  <thead>\n",
       "    <tr style=\"text-align: right;\">\n",
       "      <th></th>\n",
       "      <th>Address</th>\n",
       "      <th>Available_Bikes</th>\n",
       "      <th>Available_Stands</th>\n",
       "      <th>Updated</th>\n",
       "      <th>Status</th>\n",
       "      <th>hour_of_day</th>\n",
       "      <th>day_of_week</th>\n",
       "    </tr>\n",
       "  </thead>\n",
       "  <tbody>\n",
       "    <tr>\n",
       "      <th>0</th>\n",
       "      <td>Smithfield North</td>\n",
       "      <td>18</td>\n",
       "      <td>12</td>\n",
       "      <td>2022-03-03 09:20:28</td>\n",
       "      <td>OPEN</td>\n",
       "      <td>9</td>\n",
       "      <td>3</td>\n",
       "    </tr>\n",
       "    <tr>\n",
       "      <th>1</th>\n",
       "      <td>Parnell Square North</td>\n",
       "      <td>3</td>\n",
       "      <td>17</td>\n",
       "      <td>2022-03-03 09:27:04</td>\n",
       "      <td>OPEN</td>\n",
       "      <td>9</td>\n",
       "      <td>3</td>\n",
       "    </tr>\n",
       "    <tr>\n",
       "      <th>2</th>\n",
       "      <td>Clonmel Street</td>\n",
       "      <td>4</td>\n",
       "      <td>29</td>\n",
       "      <td>2022-03-03 09:28:23</td>\n",
       "      <td>OPEN</td>\n",
       "      <td>9</td>\n",
       "      <td>3</td>\n",
       "    </tr>\n",
       "    <tr>\n",
       "      <th>3</th>\n",
       "      <td>Avondale Road</td>\n",
       "      <td>0</td>\n",
       "      <td>35</td>\n",
       "      <td>2022-03-03 09:26:09</td>\n",
       "      <td>OPEN</td>\n",
       "      <td>9</td>\n",
       "      <td>3</td>\n",
       "    </tr>\n",
       "    <tr>\n",
       "      <th>4</th>\n",
       "      <td>Mount Street Lower</td>\n",
       "      <td>6</td>\n",
       "      <td>34</td>\n",
       "      <td>2022-03-03 09:27:52</td>\n",
       "      <td>OPEN</td>\n",
       "      <td>9</td>\n",
       "      <td>3</td>\n",
       "    </tr>\n",
       "  </tbody>\n",
       "</table>\n",
       "</div>"
      ],
      "text/plain": [
       "                Address  Available_Bikes  Available_Stands  \\\n",
       "0      Smithfield North               18                12   \n",
       "1  Parnell Square North                3                17   \n",
       "2        Clonmel Street                4                29   \n",
       "3         Avondale Road                0                35   \n",
       "4    Mount Street Lower                6                34   \n",
       "\n",
       "              Updated Status  hour_of_day  day_of_week  \n",
       "0 2022-03-03 09:20:28   OPEN            9            3  \n",
       "1 2022-03-03 09:27:04   OPEN            9            3  \n",
       "2 2022-03-03 09:28:23   OPEN            9            3  \n",
       "3 2022-03-03 09:26:09   OPEN            9            3  \n",
       "4 2022-03-03 09:27:52   OPEN            9            3  "
      ]
     },
     "execution_count": 155,
     "metadata": {},
     "output_type": "execute_result"
    }
   ],
   "source": [
    "bikes_df.head()"
   ]
  },
  {
   "cell_type": "code",
   "execution_count": 156,
   "id": "24016bd2",
   "metadata": {},
   "outputs": [
    {
     "data": {
      "text/plain": [
       "Address                   category\n",
       "Available_Bikes              int64\n",
       "Available_Stands             int64\n",
       "Updated             datetime64[ns]\n",
       "Status                    category\n",
       "hour_of_day                  int64\n",
       "day_of_week                  int64\n",
       "dtype: object"
      ]
     },
     "execution_count": 156,
     "metadata": {},
     "output_type": "execute_result"
    }
   ],
   "source": [
    "bikes_df.dtypes"
   ]
  },
  {
   "cell_type": "code",
   "execution_count": 157,
   "id": "a3672fd2",
   "metadata": {},
   "outputs": [
    {
     "data": {
      "text/html": [
       "<div>\n",
       "<style scoped>\n",
       "    .dataframe tbody tr th:only-of-type {\n",
       "        vertical-align: middle;\n",
       "    }\n",
       "\n",
       "    .dataframe tbody tr th {\n",
       "        vertical-align: top;\n",
       "    }\n",
       "\n",
       "    .dataframe thead th {\n",
       "        text-align: right;\n",
       "    }\n",
       "</style>\n",
       "<table border=\"1\" class=\"dataframe\">\n",
       "  <thead>\n",
       "    <tr style=\"text-align: right;\">\n",
       "      <th></th>\n",
       "      <th>count</th>\n",
       "      <th>unique</th>\n",
       "      <th>top</th>\n",
       "      <th>freq</th>\n",
       "    </tr>\n",
       "  </thead>\n",
       "  <tbody>\n",
       "    <tr>\n",
       "      <th>Address</th>\n",
       "      <td>1191176</td>\n",
       "      <td>111</td>\n",
       "      <td>Avondale Road</td>\n",
       "      <td>10817</td>\n",
       "    </tr>\n",
       "    <tr>\n",
       "      <th>Status</th>\n",
       "      <td>1191176</td>\n",
       "      <td>2</td>\n",
       "      <td>OPEN</td>\n",
       "      <td>1183923</td>\n",
       "    </tr>\n",
       "  </tbody>\n",
       "</table>\n",
       "</div>"
      ],
      "text/plain": [
       "           count unique            top     freq\n",
       "Address  1191176    111  Avondale Road    10817\n",
       "Status   1191176      2           OPEN  1183923"
      ]
     },
     "execution_count": 157,
     "metadata": {},
     "output_type": "execute_result"
    }
   ],
   "source": [
    "bikes_df['Address'] = bikes_df['Address'].astype('category')\n",
    "bikes_df['Status'] = bikes_df['Status'].astype('category')\n",
    "categorical_columns = bikes_df[['Address','Status']].columns\n",
    "bikes_df[categorical_columns].describe().T"
   ]
  },
  {
   "cell_type": "code",
   "execution_count": 158,
   "id": "ce58ea3f",
   "metadata": {},
   "outputs": [
    {
     "data": {
      "text/plain": [
       "Address                   category\n",
       "Available_Bikes              int64\n",
       "Available_Stands             int64\n",
       "Updated             datetime64[ns]\n",
       "Status                    category\n",
       "hour_of_day                  int64\n",
       "day_of_week                  int64\n",
       "dtype: object"
      ]
     },
     "execution_count": 158,
     "metadata": {},
     "output_type": "execute_result"
    }
   ],
   "source": [
    "bikes_df.dtypes"
   ]
  },
  {
   "cell_type": "code",
   "execution_count": 159,
   "id": "c0d77727",
   "metadata": {},
   "outputs": [
    {
     "data": {
      "text/html": [
       "<div>\n",
       "<style scoped>\n",
       "    .dataframe tbody tr th:only-of-type {\n",
       "        vertical-align: middle;\n",
       "    }\n",
       "\n",
       "    .dataframe tbody tr th {\n",
       "        vertical-align: top;\n",
       "    }\n",
       "\n",
       "    .dataframe thead th {\n",
       "        text-align: right;\n",
       "    }\n",
       "</style>\n",
       "<table border=\"1\" class=\"dataframe\">\n",
       "  <thead>\n",
       "    <tr style=\"text-align: right;\">\n",
       "      <th></th>\n",
       "      <th>count</th>\n",
       "      <th>mean</th>\n",
       "      <th>std</th>\n",
       "      <th>min</th>\n",
       "      <th>25%</th>\n",
       "      <th>50%</th>\n",
       "      <th>75%</th>\n",
       "      <th>max</th>\n",
       "    </tr>\n",
       "  </thead>\n",
       "  <tbody>\n",
       "    <tr>\n",
       "      <th>Available_Bikes</th>\n",
       "      <td>1191176.0</td>\n",
       "      <td>12.634395</td>\n",
       "      <td>9.124364</td>\n",
       "      <td>0.0</td>\n",
       "      <td>5.0</td>\n",
       "      <td>12.0</td>\n",
       "      <td>19.0</td>\n",
       "      <td>40.0</td>\n",
       "    </tr>\n",
       "    <tr>\n",
       "      <th>Available_Stands</th>\n",
       "      <td>1191176.0</td>\n",
       "      <td>19.094727</td>\n",
       "      <td>10.801886</td>\n",
       "      <td>0.0</td>\n",
       "      <td>11.0</td>\n",
       "      <td>19.0</td>\n",
       "      <td>27.0</td>\n",
       "      <td>40.0</td>\n",
       "    </tr>\n",
       "  </tbody>\n",
       "</table>\n",
       "</div>"
      ],
      "text/plain": [
       "                      count       mean        std  min   25%   50%   75%   max\n",
       "Available_Bikes   1191176.0  12.634395   9.124364  0.0   5.0  12.0  19.0  40.0\n",
       "Available_Stands  1191176.0  19.094727  10.801886  0.0  11.0  19.0  27.0  40.0"
      ]
     },
     "execution_count": 159,
     "metadata": {},
     "output_type": "execute_result"
    }
   ],
   "source": [
    "numeric_columns = bikes_df[['Available_Bikes','Available_Stands']].columns\n",
    "bikes_df[numeric_columns].describe().T"
   ]
  },
  {
   "cell_type": "code",
   "execution_count": 160,
   "id": "13547669",
   "metadata": {},
   "outputs": [],
   "source": [
    "#changing from unix timestamp\n",
    "\n",
    "bikes_df['Updated'] = pd.to_datetime(bikes_df['Updated'],unit='s')"
   ]
  },
  {
   "cell_type": "code",
   "execution_count": 161,
   "id": "b10f6708",
   "metadata": {},
   "outputs": [
    {
     "name": "stderr",
     "output_type": "stream",
     "text": [
      "/var/folders/5l/ksxk0sz53wx59mcldcmchwn40000gn/T/ipykernel_18368/4161221877.py:2: FutureWarning: Treating datetime data as categorical rather than numeric in `.describe` is deprecated and will be removed in a future version of pandas. Specify `datetime_is_numeric=True` to silence this warning and adopt the future behavior now.\n",
      "  bikes_df[DateTime_columns].describe().T\n"
     ]
    },
    {
     "data": {
      "text/html": [
       "<div>\n",
       "<style scoped>\n",
       "    .dataframe tbody tr th:only-of-type {\n",
       "        vertical-align: middle;\n",
       "    }\n",
       "\n",
       "    .dataframe tbody tr th {\n",
       "        vertical-align: top;\n",
       "    }\n",
       "\n",
       "    .dataframe thead th {\n",
       "        text-align: right;\n",
       "    }\n",
       "</style>\n",
       "<table border=\"1\" class=\"dataframe\">\n",
       "  <thead>\n",
       "    <tr style=\"text-align: right;\">\n",
       "      <th></th>\n",
       "      <th>count</th>\n",
       "      <th>unique</th>\n",
       "      <th>top</th>\n",
       "      <th>freq</th>\n",
       "      <th>first</th>\n",
       "      <th>last</th>\n",
       "    </tr>\n",
       "  </thead>\n",
       "  <tbody>\n",
       "    <tr>\n",
       "      <th>Updated</th>\n",
       "      <td>1191176</td>\n",
       "      <td>542842</td>\n",
       "      <td>2022-04-05 14:15:05</td>\n",
       "      <td>1255</td>\n",
       "      <td>2022-03-03 09:19:27</td>\n",
       "      <td>2022-04-09 22:49:17</td>\n",
       "    </tr>\n",
       "  </tbody>\n",
       "</table>\n",
       "</div>"
      ],
      "text/plain": [
       "           count  unique                 top  freq               first  \\\n",
       "Updated  1191176  542842 2022-04-05 14:15:05  1255 2022-03-03 09:19:27   \n",
       "\n",
       "                       last  \n",
       "Updated 2022-04-09 22:49:17  "
      ]
     },
     "execution_count": 161,
     "metadata": {},
     "output_type": "execute_result"
    }
   ],
   "source": [
    "DateTime_columns = bikes_df.select_dtypes(['datetime64[ns]']).columns\n",
    "bikes_df[DateTime_columns].describe().T"
   ]
  },
  {
   "cell_type": "code",
   "execution_count": 162,
   "id": "1dbdf311",
   "metadata": {},
   "outputs": [
    {
     "data": {
      "text/html": [
       "<div>\n",
       "<style scoped>\n",
       "    .dataframe tbody tr th:only-of-type {\n",
       "        vertical-align: middle;\n",
       "    }\n",
       "\n",
       "    .dataframe tbody tr th {\n",
       "        vertical-align: top;\n",
       "    }\n",
       "\n",
       "    .dataframe thead th {\n",
       "        text-align: right;\n",
       "    }\n",
       "</style>\n",
       "<table border=\"1\" class=\"dataframe\">\n",
       "  <thead>\n",
       "    <tr style=\"text-align: right;\">\n",
       "      <th></th>\n",
       "      <th>Address</th>\n",
       "      <th>Available_Bikes</th>\n",
       "      <th>Available_Stands</th>\n",
       "      <th>Updated</th>\n",
       "      <th>Status</th>\n",
       "      <th>hour_of_day</th>\n",
       "      <th>day_of_week</th>\n",
       "    </tr>\n",
       "  </thead>\n",
       "  <tbody>\n",
       "    <tr>\n",
       "      <th>0</th>\n",
       "      <td>Smithfield North</td>\n",
       "      <td>18</td>\n",
       "      <td>12</td>\n",
       "      <td>2022-03-03 09:20:28</td>\n",
       "      <td>OPEN</td>\n",
       "      <td>9</td>\n",
       "      <td>3</td>\n",
       "    </tr>\n",
       "    <tr>\n",
       "      <th>1</th>\n",
       "      <td>Parnell Square North</td>\n",
       "      <td>3</td>\n",
       "      <td>17</td>\n",
       "      <td>2022-03-03 09:27:04</td>\n",
       "      <td>OPEN</td>\n",
       "      <td>9</td>\n",
       "      <td>3</td>\n",
       "    </tr>\n",
       "    <tr>\n",
       "      <th>2</th>\n",
       "      <td>Clonmel Street</td>\n",
       "      <td>4</td>\n",
       "      <td>29</td>\n",
       "      <td>2022-03-03 09:28:23</td>\n",
       "      <td>OPEN</td>\n",
       "      <td>9</td>\n",
       "      <td>3</td>\n",
       "    </tr>\n",
       "    <tr>\n",
       "      <th>3</th>\n",
       "      <td>Avondale Road</td>\n",
       "      <td>0</td>\n",
       "      <td>35</td>\n",
       "      <td>2022-03-03 09:26:09</td>\n",
       "      <td>OPEN</td>\n",
       "      <td>9</td>\n",
       "      <td>3</td>\n",
       "    </tr>\n",
       "    <tr>\n",
       "      <th>4</th>\n",
       "      <td>Mount Street Lower</td>\n",
       "      <td>6</td>\n",
       "      <td>34</td>\n",
       "      <td>2022-03-03 09:27:52</td>\n",
       "      <td>OPEN</td>\n",
       "      <td>9</td>\n",
       "      <td>3</td>\n",
       "    </tr>\n",
       "  </tbody>\n",
       "</table>\n",
       "</div>"
      ],
      "text/plain": [
       "                Address  Available_Bikes  Available_Stands  \\\n",
       "0      Smithfield North               18                12   \n",
       "1  Parnell Square North                3                17   \n",
       "2        Clonmel Street                4                29   \n",
       "3         Avondale Road                0                35   \n",
       "4    Mount Street Lower                6                34   \n",
       "\n",
       "              Updated Status  hour_of_day  day_of_week  \n",
       "0 2022-03-03 09:20:28   OPEN            9            3  \n",
       "1 2022-03-03 09:27:04   OPEN            9            3  \n",
       "2 2022-03-03 09:28:23   OPEN            9            3  \n",
       "3 2022-03-03 09:26:09   OPEN            9            3  \n",
       "4 2022-03-03 09:27:52   OPEN            9            3  "
      ]
     },
     "execution_count": 162,
     "metadata": {},
     "output_type": "execute_result"
    }
   ],
   "source": [
    "bikes_df.head()"
   ]
  },
  {
   "cell_type": "markdown",
   "id": "6a6e1cee",
   "metadata": {},
   "source": [
    "The user will be able to see the expected number of bikes for their chosen station by inputting a date and time in the future. Therefore, the day of the week and the hour has been extracted from the 'Updated' column."
   ]
  },
  {
   "cell_type": "code",
   "execution_count": 163,
   "id": "87094aed",
   "metadata": {},
   "outputs": [
    {
     "data": {
      "text/html": [
       "<div>\n",
       "<style scoped>\n",
       "    .dataframe tbody tr th:only-of-type {\n",
       "        vertical-align: middle;\n",
       "    }\n",
       "\n",
       "    .dataframe tbody tr th {\n",
       "        vertical-align: top;\n",
       "    }\n",
       "\n",
       "    .dataframe thead th {\n",
       "        text-align: right;\n",
       "    }\n",
       "</style>\n",
       "<table border=\"1\" class=\"dataframe\">\n",
       "  <thead>\n",
       "    <tr style=\"text-align: right;\">\n",
       "      <th></th>\n",
       "      <th>Address</th>\n",
       "      <th>Available_Bikes</th>\n",
       "      <th>Available_Stands</th>\n",
       "      <th>Updated</th>\n",
       "      <th>Status</th>\n",
       "      <th>hour_of_day</th>\n",
       "      <th>day_of_week</th>\n",
       "    </tr>\n",
       "  </thead>\n",
       "  <tbody>\n",
       "    <tr>\n",
       "      <th>0</th>\n",
       "      <td>Smithfield North</td>\n",
       "      <td>18</td>\n",
       "      <td>12</td>\n",
       "      <td>2022-03-03 09:20:28</td>\n",
       "      <td>OPEN</td>\n",
       "      <td>9</td>\n",
       "      <td>3</td>\n",
       "    </tr>\n",
       "    <tr>\n",
       "      <th>1</th>\n",
       "      <td>Parnell Square North</td>\n",
       "      <td>3</td>\n",
       "      <td>17</td>\n",
       "      <td>2022-03-03 09:27:04</td>\n",
       "      <td>OPEN</td>\n",
       "      <td>9</td>\n",
       "      <td>3</td>\n",
       "    </tr>\n",
       "    <tr>\n",
       "      <th>2</th>\n",
       "      <td>Clonmel Street</td>\n",
       "      <td>4</td>\n",
       "      <td>29</td>\n",
       "      <td>2022-03-03 09:28:23</td>\n",
       "      <td>OPEN</td>\n",
       "      <td>9</td>\n",
       "      <td>3</td>\n",
       "    </tr>\n",
       "    <tr>\n",
       "      <th>3</th>\n",
       "      <td>Avondale Road</td>\n",
       "      <td>0</td>\n",
       "      <td>35</td>\n",
       "      <td>2022-03-03 09:26:09</td>\n",
       "      <td>OPEN</td>\n",
       "      <td>9</td>\n",
       "      <td>3</td>\n",
       "    </tr>\n",
       "    <tr>\n",
       "      <th>4</th>\n",
       "      <td>Mount Street Lower</td>\n",
       "      <td>6</td>\n",
       "      <td>34</td>\n",
       "      <td>2022-03-03 09:27:52</td>\n",
       "      <td>OPEN</td>\n",
       "      <td>9</td>\n",
       "      <td>3</td>\n",
       "    </tr>\n",
       "  </tbody>\n",
       "</table>\n",
       "</div>"
      ],
      "text/plain": [
       "                Address  Available_Bikes  Available_Stands  \\\n",
       "0      Smithfield North               18                12   \n",
       "1  Parnell Square North                3                17   \n",
       "2        Clonmel Street                4                29   \n",
       "3         Avondale Road                0                35   \n",
       "4    Mount Street Lower                6                34   \n",
       "\n",
       "              Updated Status  hour_of_day  day_of_week  \n",
       "0 2022-03-03 09:20:28   OPEN            9            3  \n",
       "1 2022-03-03 09:27:04   OPEN            9            3  \n",
       "2 2022-03-03 09:28:23   OPEN            9            3  \n",
       "3 2022-03-03 09:26:09   OPEN            9            3  \n",
       "4 2022-03-03 09:27:52   OPEN            9            3  "
      ]
     },
     "execution_count": 163,
     "metadata": {},
     "output_type": "execute_result"
    }
   ],
   "source": [
    "#column for hour of the day\n",
    "\n",
    "bikes_df['hour_of_day'] = bikes_df['Updated'].dt.hour\n",
    "bikes_df.head()"
   ]
  },
  {
   "cell_type": "code",
   "execution_count": 164,
   "id": "62fa27a0",
   "metadata": {},
   "outputs": [
    {
     "data": {
      "text/html": [
       "<div>\n",
       "<style scoped>\n",
       "    .dataframe tbody tr th:only-of-type {\n",
       "        vertical-align: middle;\n",
       "    }\n",
       "\n",
       "    .dataframe tbody tr th {\n",
       "        vertical-align: top;\n",
       "    }\n",
       "\n",
       "    .dataframe thead th {\n",
       "        text-align: right;\n",
       "    }\n",
       "</style>\n",
       "<table border=\"1\" class=\"dataframe\">\n",
       "  <thead>\n",
       "    <tr style=\"text-align: right;\">\n",
       "      <th></th>\n",
       "      <th>Address</th>\n",
       "      <th>Available_Bikes</th>\n",
       "      <th>Available_Stands</th>\n",
       "      <th>Updated</th>\n",
       "      <th>Status</th>\n",
       "      <th>hour_of_day</th>\n",
       "      <th>day_of_week</th>\n",
       "    </tr>\n",
       "  </thead>\n",
       "  <tbody>\n",
       "    <tr>\n",
       "      <th>0</th>\n",
       "      <td>Smithfield North</td>\n",
       "      <td>18</td>\n",
       "      <td>12</td>\n",
       "      <td>2022-03-03 09:20:28</td>\n",
       "      <td>OPEN</td>\n",
       "      <td>9</td>\n",
       "      <td>3</td>\n",
       "    </tr>\n",
       "    <tr>\n",
       "      <th>1</th>\n",
       "      <td>Parnell Square North</td>\n",
       "      <td>3</td>\n",
       "      <td>17</td>\n",
       "      <td>2022-03-03 09:27:04</td>\n",
       "      <td>OPEN</td>\n",
       "      <td>9</td>\n",
       "      <td>3</td>\n",
       "    </tr>\n",
       "    <tr>\n",
       "      <th>2</th>\n",
       "      <td>Clonmel Street</td>\n",
       "      <td>4</td>\n",
       "      <td>29</td>\n",
       "      <td>2022-03-03 09:28:23</td>\n",
       "      <td>OPEN</td>\n",
       "      <td>9</td>\n",
       "      <td>3</td>\n",
       "    </tr>\n",
       "    <tr>\n",
       "      <th>3</th>\n",
       "      <td>Avondale Road</td>\n",
       "      <td>0</td>\n",
       "      <td>35</td>\n",
       "      <td>2022-03-03 09:26:09</td>\n",
       "      <td>OPEN</td>\n",
       "      <td>9</td>\n",
       "      <td>3</td>\n",
       "    </tr>\n",
       "    <tr>\n",
       "      <th>4</th>\n",
       "      <td>Mount Street Lower</td>\n",
       "      <td>6</td>\n",
       "      <td>34</td>\n",
       "      <td>2022-03-03 09:27:52</td>\n",
       "      <td>OPEN</td>\n",
       "      <td>9</td>\n",
       "      <td>3</td>\n",
       "    </tr>\n",
       "  </tbody>\n",
       "</table>\n",
       "</div>"
      ],
      "text/plain": [
       "                Address  Available_Bikes  Available_Stands  \\\n",
       "0      Smithfield North               18                12   \n",
       "1  Parnell Square North                3                17   \n",
       "2        Clonmel Street                4                29   \n",
       "3         Avondale Road                0                35   \n",
       "4    Mount Street Lower                6                34   \n",
       "\n",
       "              Updated Status  hour_of_day  day_of_week  \n",
       "0 2022-03-03 09:20:28   OPEN            9            3  \n",
       "1 2022-03-03 09:27:04   OPEN            9            3  \n",
       "2 2022-03-03 09:28:23   OPEN            9            3  \n",
       "3 2022-03-03 09:26:09   OPEN            9            3  \n",
       "4 2022-03-03 09:27:52   OPEN            9            3  "
      ]
     },
     "execution_count": 164,
     "metadata": {},
     "output_type": "execute_result"
    }
   ],
   "source": [
    "#getting column for the day of week\n",
    "\n",
    "bikes_df['day_of_week'] = bikes_df['Updated'].dt.dayofweek\n",
    "\n",
    "\n",
    "bikes_df.head()"
   ]
  },
  {
   "cell_type": "code",
   "execution_count": 165,
   "id": "b71f36ef",
   "metadata": {},
   "outputs": [
    {
     "data": {
      "text/html": [
       "<div>\n",
       "<style scoped>\n",
       "    .dataframe tbody tr th:only-of-type {\n",
       "        vertical-align: middle;\n",
       "    }\n",
       "\n",
       "    .dataframe tbody tr th {\n",
       "        vertical-align: top;\n",
       "    }\n",
       "\n",
       "    .dataframe thead th {\n",
       "        text-align: right;\n",
       "    }\n",
       "</style>\n",
       "<table border=\"1\" class=\"dataframe\">\n",
       "  <thead>\n",
       "    <tr style=\"text-align: right;\">\n",
       "      <th></th>\n",
       "      <th>count</th>\n",
       "      <th>mean</th>\n",
       "      <th>std</th>\n",
       "      <th>min</th>\n",
       "      <th>25%</th>\n",
       "      <th>50%</th>\n",
       "      <th>75%</th>\n",
       "      <th>max</th>\n",
       "    </tr>\n",
       "  </thead>\n",
       "  <tbody>\n",
       "    <tr>\n",
       "      <th>Available_Bikes</th>\n",
       "      <td>1191176.0</td>\n",
       "      <td>12.634395</td>\n",
       "      <td>9.124364</td>\n",
       "      <td>0.0</td>\n",
       "      <td>5.0</td>\n",
       "      <td>12.0</td>\n",
       "      <td>19.0</td>\n",
       "      <td>40.0</td>\n",
       "    </tr>\n",
       "    <tr>\n",
       "      <th>Available_Stands</th>\n",
       "      <td>1191176.0</td>\n",
       "      <td>19.094727</td>\n",
       "      <td>10.801886</td>\n",
       "      <td>0.0</td>\n",
       "      <td>11.0</td>\n",
       "      <td>19.0</td>\n",
       "      <td>27.0</td>\n",
       "      <td>40.0</td>\n",
       "    </tr>\n",
       "    <tr>\n",
       "      <th>hour_of_day</th>\n",
       "      <td>1191176.0</td>\n",
       "      <td>11.574272</td>\n",
       "      <td>6.889459</td>\n",
       "      <td>0.0</td>\n",
       "      <td>6.0</td>\n",
       "      <td>12.0</td>\n",
       "      <td>18.0</td>\n",
       "      <td>23.0</td>\n",
       "    </tr>\n",
       "    <tr>\n",
       "      <th>day_of_week</th>\n",
       "      <td>1191176.0</td>\n",
       "      <td>3.074466</td>\n",
       "      <td>1.962829</td>\n",
       "      <td>0.0</td>\n",
       "      <td>1.0</td>\n",
       "      <td>3.0</td>\n",
       "      <td>5.0</td>\n",
       "      <td>6.0</td>\n",
       "    </tr>\n",
       "  </tbody>\n",
       "</table>\n",
       "</div>"
      ],
      "text/plain": [
       "                      count       mean        std  min   25%   50%   75%   max\n",
       "Available_Bikes   1191176.0  12.634395   9.124364  0.0   5.0  12.0  19.0  40.0\n",
       "Available_Stands  1191176.0  19.094727  10.801886  0.0  11.0  19.0  27.0  40.0\n",
       "hour_of_day       1191176.0  11.574272   6.889459  0.0   6.0  12.0  18.0  23.0\n",
       "day_of_week       1191176.0   3.074466   1.962829  0.0   1.0   3.0   5.0   6.0"
      ]
     },
     "execution_count": 165,
     "metadata": {},
     "output_type": "execute_result"
    }
   ],
   "source": [
    "categorical_columns = bikes_df[['Address']].columns\n",
    "\n",
    "continuous_columns = bikes_df[['Available_Bikes', 'Available_Stands', 'hour_of_day', 'day_of_week']].columns\n",
    "\n",
    "bikes_df[continuous_columns].describe().T"
   ]
  },
  {
   "cell_type": "code",
   "execution_count": 166,
   "id": "3db44efb",
   "metadata": {},
   "outputs": [
    {
     "data": {
      "text/html": [
       "<div>\n",
       "<style scoped>\n",
       "    .dataframe tbody tr th:only-of-type {\n",
       "        vertical-align: middle;\n",
       "    }\n",
       "\n",
       "    .dataframe tbody tr th {\n",
       "        vertical-align: top;\n",
       "    }\n",
       "\n",
       "    .dataframe thead th {\n",
       "        text-align: right;\n",
       "    }\n",
       "</style>\n",
       "<table border=\"1\" class=\"dataframe\">\n",
       "  <thead>\n",
       "    <tr style=\"text-align: right;\">\n",
       "      <th></th>\n",
       "      <th>count</th>\n",
       "      <th>unique</th>\n",
       "      <th>top</th>\n",
       "      <th>freq</th>\n",
       "    </tr>\n",
       "  </thead>\n",
       "  <tbody>\n",
       "    <tr>\n",
       "      <th>Address</th>\n",
       "      <td>1191176</td>\n",
       "      <td>111</td>\n",
       "      <td>Avondale Road</td>\n",
       "      <td>10817</td>\n",
       "    </tr>\n",
       "  </tbody>\n",
       "</table>\n",
       "</div>"
      ],
      "text/plain": [
       "           count unique            top   freq\n",
       "Address  1191176    111  Avondale Road  10817"
      ]
     },
     "execution_count": 166,
     "metadata": {},
     "output_type": "execute_result"
    }
   ],
   "source": [
    "bikes_df[categorical_columns].describe().T"
   ]
  },
  {
   "cell_type": "code",
   "execution_count": 167,
   "id": "0b9f5fcc",
   "metadata": {},
   "outputs": [
    {
     "data": {
      "text/html": [
       "<div>\n",
       "<style scoped>\n",
       "    .dataframe tbody tr th:only-of-type {\n",
       "        vertical-align: middle;\n",
       "    }\n",
       "\n",
       "    .dataframe tbody tr th {\n",
       "        vertical-align: top;\n",
       "    }\n",
       "\n",
       "    .dataframe thead th {\n",
       "        text-align: right;\n",
       "    }\n",
       "</style>\n",
       "<table border=\"1\" class=\"dataframe\">\n",
       "  <thead>\n",
       "    <tr style=\"text-align: right;\">\n",
       "      <th></th>\n",
       "      <th>Address</th>\n",
       "      <th>Available_Bikes</th>\n",
       "      <th>Available_Stands</th>\n",
       "      <th>Updated</th>\n",
       "      <th>Status</th>\n",
       "      <th>hour_of_day</th>\n",
       "      <th>day_of_week</th>\n",
       "    </tr>\n",
       "  </thead>\n",
       "  <tbody>\n",
       "    <tr>\n",
       "      <th>0</th>\n",
       "      <td>Smithfield North</td>\n",
       "      <td>18</td>\n",
       "      <td>12</td>\n",
       "      <td>2022-03-03 09:20:28</td>\n",
       "      <td>OPEN</td>\n",
       "      <td>9</td>\n",
       "      <td>3</td>\n",
       "    </tr>\n",
       "    <tr>\n",
       "      <th>1</th>\n",
       "      <td>Parnell Square North</td>\n",
       "      <td>3</td>\n",
       "      <td>17</td>\n",
       "      <td>2022-03-03 09:27:04</td>\n",
       "      <td>OPEN</td>\n",
       "      <td>9</td>\n",
       "      <td>3</td>\n",
       "    </tr>\n",
       "    <tr>\n",
       "      <th>2</th>\n",
       "      <td>Clonmel Street</td>\n",
       "      <td>4</td>\n",
       "      <td>29</td>\n",
       "      <td>2022-03-03 09:28:23</td>\n",
       "      <td>OPEN</td>\n",
       "      <td>9</td>\n",
       "      <td>3</td>\n",
       "    </tr>\n",
       "    <tr>\n",
       "      <th>3</th>\n",
       "      <td>Avondale Road</td>\n",
       "      <td>0</td>\n",
       "      <td>35</td>\n",
       "      <td>2022-03-03 09:26:09</td>\n",
       "      <td>OPEN</td>\n",
       "      <td>9</td>\n",
       "      <td>3</td>\n",
       "    </tr>\n",
       "    <tr>\n",
       "      <th>4</th>\n",
       "      <td>Mount Street Lower</td>\n",
       "      <td>6</td>\n",
       "      <td>34</td>\n",
       "      <td>2022-03-03 09:27:52</td>\n",
       "      <td>OPEN</td>\n",
       "      <td>9</td>\n",
       "      <td>3</td>\n",
       "    </tr>\n",
       "  </tbody>\n",
       "</table>\n",
       "</div>"
      ],
      "text/plain": [
       "                Address  Available_Bikes  Available_Stands  \\\n",
       "0      Smithfield North               18                12   \n",
       "1  Parnell Square North                3                17   \n",
       "2        Clonmel Street                4                29   \n",
       "3         Avondale Road                0                35   \n",
       "4    Mount Street Lower                6                34   \n",
       "\n",
       "              Updated Status  hour_of_day  day_of_week  \n",
       "0 2022-03-03 09:20:28   OPEN            9            3  \n",
       "1 2022-03-03 09:27:04   OPEN            9            3  \n",
       "2 2022-03-03 09:28:23   OPEN            9            3  \n",
       "3 2022-03-03 09:26:09   OPEN            9            3  \n",
       "4 2022-03-03 09:27:52   OPEN            9            3  "
      ]
     },
     "execution_count": 167,
     "metadata": {},
     "output_type": "execute_result"
    }
   ],
   "source": [
    "bikes_df.head()"
   ]
  },
  {
   "cell_type": "markdown",
   "id": "13e942bb",
   "metadata": {},
   "source": [
    "## Training the models\n",
    "\n",
    "- Testing Different modelling algorithims to see which one works with the data. \n",
    "\n",
    "- Input values will be 'hour_of_day' and 'day_of_week'.\n",
    "\n",
    "- Modelling algorithms tested include Random Forest Regression and Linear Regression."
   ]
  },
  {
   "cell_type": "code",
   "execution_count": 168,
   "id": "8c30ed71",
   "metadata": {},
   "outputs": [
    {
     "name": "stdout",
     "output_type": "stream",
     "text": [
      "\n",
      "Descriptive features in X:\n",
      "          hour_of_day  day_of_week\n",
      "0                  9            3\n",
      "1                  9            3\n",
      "2                  9            3\n",
      "3                  9            3\n",
      "4                  9            3\n",
      "...              ...          ...\n",
      "1191171           22            5\n",
      "1191172           22            5\n",
      "1191173           22            5\n",
      "1191174           22            5\n",
      "1191175           22            5\n",
      "\n",
      "[1191176 rows x 2 columns]\n",
      "\n",
      "Target feature in y:\n",
      " 0          18\n",
      "1           3\n",
      "2           4\n",
      "3           0\n",
      "4           6\n",
      "           ..\n",
      "1191171     1\n",
      "1191172    19\n",
      "1191173    35\n",
      "1191174    20\n",
      "1191175     3\n",
      "Name: Available_Bikes, Length: 1191176, dtype: int64\n"
     ]
    }
   ],
   "source": [
    "X = bikes_df[['hour_of_day', 'day_of_week']]\n",
    "y = bikes_df.Available_Bikes\n",
    "\n",
    "print(\"\\nDescriptive features in X:\\n\", X)\n",
    "print(\"\\nTarget feature in y:\\n\", y)"
   ]
  },
  {
   "cell_type": "markdown",
   "id": "6296b8df",
   "metadata": {},
   "source": [
    "## Linear Regression Model"
   ]
  },
  {
   "cell_type": "code",
   "execution_count": 169,
   "id": "c0616725",
   "metadata": {},
   "outputs": [
    {
     "name": "stdout",
     "output_type": "stream",
     "text": [
      "Features: \n",
      " ['hour_of_day', 'day_of_week']\n",
      "Coeficients: \n",
      " [-0.01961888  0.03819846]\n",
      "\n",
      "Intercept: \n",
      " 12.744029242847708\n"
     ]
    },
    {
     "data": {
      "text/html": [
       "<div>\n",
       "<style scoped>\n",
       "    .dataframe tbody tr th:only-of-type {\n",
       "        vertical-align: middle;\n",
       "    }\n",
       "\n",
       "    .dataframe tbody tr th {\n",
       "        vertical-align: top;\n",
       "    }\n",
       "\n",
       "    .dataframe thead th {\n",
       "        text-align: right;\n",
       "    }\n",
       "</style>\n",
       "<table border=\"1\" class=\"dataframe\">\n",
       "  <thead>\n",
       "    <tr style=\"text-align: right;\">\n",
       "      <th></th>\n",
       "      <th>feature</th>\n",
       "      <th>importance</th>\n",
       "    </tr>\n",
       "  </thead>\n",
       "  <tbody>\n",
       "    <tr>\n",
       "      <th>1</th>\n",
       "      <td>day_of_week</td>\n",
       "      <td>0.038198</td>\n",
       "    </tr>\n",
       "    <tr>\n",
       "      <th>0</th>\n",
       "      <td>hour_of_day</td>\n",
       "      <td>-0.019619</td>\n",
       "    </tr>\n",
       "  </tbody>\n",
       "</table>\n",
       "</div>"
      ],
      "text/plain": [
       "       feature  importance\n",
       "1  day_of_week    0.038198\n",
       "0  hour_of_day   -0.019619"
      ]
     },
     "execution_count": 169,
     "metadata": {},
     "output_type": "execute_result"
    }
   ],
   "source": [
    "cont_features = ['hour_of_day', 'day_of_week']\n",
    "\n",
    "linreg = LinearRegression().fit(X[cont_features], y)\n",
    "\n",
    "# Print the weights learned for each feature.\n",
    "print(\"Features: \\n\", cont_features)\n",
    "print(\"Coeficients: \\n\", linreg.coef_)\n",
    "print(\"\\nIntercept: \\n\", linreg.intercept_)\n",
    "\n",
    "feature_importance = pd.DataFrame({'feature': cont_features, 'importance':linreg.coef_})\n",
    "feature_importance.sort_values('importance', ascending=False)"
   ]
  },
  {
   "cell_type": "code",
   "execution_count": 170,
   "id": "383db2b9",
   "metadata": {},
   "outputs": [
    {
     "name": "stdout",
     "output_type": "stream",
     "text": [
      "\n",
      "Predictions with linear regression: \n",
      "\n",
      "         Available_Bikes  Predicted\n",
      "0                     18  12.682055\n",
      "1                      3  12.682055\n",
      "2                      4  12.682055\n",
      "3                      0  12.682055\n",
      "4                      6  12.682055\n",
      "...                  ...        ...\n",
      "1191171                1  12.503406\n",
      "1191172               19  12.503406\n",
      "1191173               35  12.503406\n",
      "1191174               20  12.503406\n",
      "1191175                3  12.503406\n",
      "\n",
      "[1191176 rows x 2 columns]\n"
     ]
    }
   ],
   "source": [
    "linreg_predictions = linreg.predict(X[cont_features])\n",
    "\n",
    "print(\"\\nPredictions with linear regression: \\n\")\n",
    "actual_vs_predicted_linreg = pd.concat([y, pd.DataFrame(linreg_predictions, columns=['Predicted'], index=y.index)], axis=1)\n",
    "print(actual_vs_predicted_linreg)"
   ]
  },
  {
   "cell_type": "code",
   "execution_count": 171,
   "id": "bf6dab67",
   "metadata": {},
   "outputs": [
    {
     "name": "stdout",
     "output_type": "stream",
     "text": [
      "Actual - Predicted:\n",
      " 0           5.317945\n",
      "1          -9.682055\n",
      "2          -8.682055\n",
      "3         -12.682055\n",
      "4          -6.682055\n",
      "             ...    \n",
      "1191171   -11.503406\n",
      "1191172     6.496594\n",
      "1191173    22.496594\n",
      "1191174     7.496594\n",
      "1191175    -9.503406\n",
      "Name: Available_Bikes, Length: 1191176, dtype: float64\n",
      "\n",
      "(Actual - Predicted) squared:\n",
      " 0           28.280542\n",
      "1           93.742184\n",
      "2           75.378075\n",
      "3          160.834513\n",
      "4           44.649856\n",
      "              ...    \n",
      "1191171    132.328357\n",
      "1191172     42.205730\n",
      "1191173    506.096728\n",
      "1191174     56.198917\n",
      "1191175     90.314731\n",
      "Name: Available_Bikes, Length: 1191176, dtype: float64\n",
      "\n",
      " Sum of (Actual - Predicted) squared:\n",
      " 99141532.43188888\n"
     ]
    }
   ],
   "source": [
    "prediction_errors = y - linreg_predictions\n",
    "print(\"Actual - Predicted:\\n\", prediction_errors)\n",
    "print(\"\\n(Actual - Predicted) squared:\\n\", prediction_errors**2)\n",
    "print(\"\\n Sum of (Actual - Predicted) squared:\\n\", (prediction_errors**2).sum())"
   ]
  },
  {
   "cell_type": "code",
   "execution_count": 172,
   "id": "4c6f452f",
   "metadata": {},
   "outputs": [
    {
     "name": "stdout",
     "output_type": "stream",
     "text": [
      "\n",
      "Mean Squared Error:\n",
      " 83.22996134231705\n",
      "\n",
      "Root Mean Squared Error:\n",
      " 9.123045617682566\n"
     ]
    }
   ],
   "source": [
    "mse = (prediction_errors** 2).mean()\n",
    "rmse = ((prediction_errors** 2).mean())**0.5\n",
    "\n",
    "print(\"\\nMean Squared Error:\\n\", mse)\n",
    "print(\"\\nRoot Mean Squared Error:\\n\", rmse)"
   ]
  },
  {
   "cell_type": "code",
   "execution_count": 173,
   "id": "14e0e646",
   "metadata": {},
   "outputs": [
    {
     "name": "stdout",
     "output_type": "stream",
     "text": [
      "|Actual - Predicted|:\n",
      " 0           5.317945\n",
      "1           9.682055\n",
      "2           8.682055\n",
      "3          12.682055\n",
      "4           6.682055\n",
      "             ...    \n",
      "1191171    11.503406\n",
      "1191172     6.496594\n",
      "1191173    22.496594\n",
      "1191174     7.496594\n",
      "1191175     9.503406\n",
      "Name: Available_Bikes, Length: 1191176, dtype: float64\n"
     ]
    }
   ],
   "source": [
    "print(\"|Actual - Predicted|:\\n\", abs(prediction_errors))"
   ]
  },
  {
   "cell_type": "code",
   "execution_count": 174,
   "id": "07111943",
   "metadata": {},
   "outputs": [],
   "source": [
    "def printMetrics(testActualVal, predictions):\n",
    "    #classification evaluation measures\n",
    "    print('\\n==============================================================================')\n",
    "    print(\"MAE: \", metrics.mean_absolute_error(testActualVal, predictions))\n",
    "    #print(\"MSE: \", metrics.mean_squared_error(testActualVal, predictions))\n",
    "    print(\"RMSE: \", metrics.mean_squared_error(testActualVal, predictions)**0.5)\n",
    "    "
   ]
  },
  {
   "cell_type": "code",
   "execution_count": 175,
   "id": "cc7a3af9",
   "metadata": {},
   "outputs": [
    {
     "name": "stdout",
     "output_type": "stream",
     "text": [
      "\n",
      "==============================================================================\n",
      "MAE:  7.491373935409785\n",
      "RMSE:  9.123045617682244\n"
     ]
    }
   ],
   "source": [
    "printMetrics(y, linreg_predictions)"
   ]
  },
  {
   "cell_type": "markdown",
   "id": "97befa62",
   "metadata": {},
   "source": [
    "## Random Forest Regression"
   ]
  },
  {
   "cell_type": "code",
   "execution_count": 176,
   "id": "f186d05c",
   "metadata": {},
   "outputs": [],
   "source": [
    "X_train, X_test, y_train, y_test = train_test_split(X, y, test_size=0.3, random_state=0)"
   ]
  },
  {
   "cell_type": "code",
   "execution_count": 177,
   "id": "661cba83",
   "metadata": {},
   "outputs": [],
   "source": [
    "model = RandomForestRegressor()\n",
    "\n",
    "model.fit(X_train,y_train)\n",
    "predictions = model.predict(X_test)"
   ]
  },
  {
   "cell_type": "code",
   "execution_count": 194,
   "id": "1db9c5c2",
   "metadata": {},
   "outputs": [],
   "source": [
    "rforest = RandomForestRegressor().fit(X[cont_features], y)"
   ]
  },
  {
   "cell_type": "code",
   "execution_count": 195,
   "id": "09c60d2d",
   "metadata": {},
   "outputs": [
    {
     "name": "stdout",
     "output_type": "stream",
     "text": [
      "\n",
      "Predictions with linear regression: \n",
      "\n",
      "         Available_Bikes  Predicted\n",
      "1046292                0   0.162059\n",
      "1046403                0   0.494210\n",
      "1046514                0   0.494210\n",
      "1046625                0   0.494210\n",
      "1046736                0   0.494210\n",
      "...                  ...        ...\n",
      "1190703                1   1.000000\n",
      "1190814                1   1.000000\n",
      "1190925                1   1.000000\n",
      "1191036                1   1.000000\n",
      "1191147                1   1.000000\n",
      "\n",
      "[1306 rows x 2 columns]\n"
     ]
    }
   ],
   "source": [
    "forest_predictions = rforest.predict(X[cont_features])\n",
    "\n",
    "print(\"\\nPredictions with linear regression: \\n\")\n",
    "actual_vs_predicted_linreg = pd.concat([y, pd.DataFrame(forest_predictions, columns=['Predicted'], index=y.index)], axis=1)\n",
    "print(actual_vs_predicted_linreg)"
   ]
  },
  {
   "cell_type": "code",
   "execution_count": 178,
   "id": "39eada51",
   "metadata": {},
   "outputs": [
    {
     "name": "stdout",
     "output_type": "stream",
     "text": [
      "\n",
      "==============================================================================\n",
      "MAE:  7.488002473730894\n",
      "RMSE:  9.113555111344342\n"
     ]
    }
   ],
   "source": [
    "from sklearn.metrics import mean_absolute_error, r2_score\n",
    "print('\\n==============================================================================')\n",
    "print(\"MAE: \", mean_absolute_error(y_test,predictions))\n",
    "print(\"RMSE: \", metrics.mean_squared_error(y_test, predictions)**0.5)\n"
   ]
  },
  {
   "cell_type": "markdown",
   "id": "5c4afd41",
   "metadata": {},
   "source": [
    "### As the Random Forest Regression model performs slightly better than the Linear Regression Model based on the MAE and RMSE calculated, this will be the model that will be use for our predictions.\n",
    "\n",
    "# Making a pickle file for each station:"
   ]
  },
  {
   "cell_type": "code",
   "execution_count": 187,
   "id": "763d7007",
   "metadata": {},
   "outputs": [],
   "source": [
    "Address_list = list(bikes_df['Address'].unique())\n",
    "\n",
    "for i in Address_list:\n",
    "    \n",
    "    df_new = bikes_df[bikes_df['Address']== i]\n",
    "    \n",
    "    X = pd.DataFrame(df_new[['hour_of_day', 'day_of_week']])\n",
    "\n",
    "    y = df_new['Available_Bikes']\n",
    "\n",
    "    x_train, x_test, y_train, y_test = train_test_split(X, y, test_size=0.3)\n",
    "\n",
    "    model = RandomForestRegressor()\n",
    "\n",
    "    # Train the model\n",
    "    model.fit(x_train, y_train)\n",
    "    \n",
    "    if i == \"Princes Street / O'Connell Street\":\n",
    "        i = \"Princes Street O'Connell Street\"\n",
    "    \n",
    "    \n",
    "    file_name = i + \"_model.pkl\"\n",
    "    \n",
    "    \n",
    "    with open(file_name, 'wb') as handle: \n",
    "    \n",
    "        joblib.dump(model, handle, pickle.HIGHEST_PROTOCOL)"
   ]
  },
  {
   "cell_type": "markdown",
   "id": "c7d188c9",
   "metadata": {},
   "source": [
    "## Testing to see the Pickle files are working as they should:"
   ]
  },
  {
   "cell_type": "code",
   "execution_count": 196,
   "id": "e08f4d72",
   "metadata": {},
   "outputs": [
    {
     "name": "stdout",
     "output_type": "stream",
     "text": [
      "{\"bikes\": 9.994834630183377}\n"
     ]
    },
    {
     "name": "stderr",
     "output_type": "stream",
     "text": [
      "/Users/conorkennedy/opt/miniconda3/envs/comp30830/lib/python3.9/site-packages/sklearn/base.py:450: UserWarning: X does not have valid feature names, but RandomForestRegressor was fitted with feature names\n",
      "  warnings.warn(\n"
     ]
    }
   ],
   "source": [
    "model = load('Avondale Road_model.pkl')\n",
    "bike_avail_predict = model.predict([[19,4]])\n",
    "\n",
    "predict_list = bike_avail_predict.tolist()\n",
    "predict_dict = {\"bikes\": predict_list[0]}\n",
    "result = json.dumps(predict_dict)\n",
    "\n",
    "print(result)"
   ]
  },
  {
   "cell_type": "code",
   "execution_count": 197,
   "id": "ba3f8224",
   "metadata": {},
   "outputs": [
    {
     "name": "stdout",
     "output_type": "stream",
     "text": [
      "{\"bikes\": 14.664878751505002}\n"
     ]
    },
    {
     "name": "stderr",
     "output_type": "stream",
     "text": [
      "/Users/conorkennedy/opt/miniconda3/envs/comp30830/lib/python3.9/site-packages/sklearn/base.py:450: UserWarning: X does not have valid feature names, but RandomForestRegressor was fitted with feature names\n",
      "  warnings.warn(\n"
     ]
    }
   ],
   "source": [
    "model = load('Exchequer Street_model.pkl')\n",
    "bike_avail_predict = model.predict([[20,2]])\n",
    "\n",
    "predict_list = bike_avail_predict.tolist()\n",
    "predict_dict = {\"bikes\": predict_list[0]}\n",
    "result = json.dumps(predict_dict)\n",
    "\n",
    "print(result)"
   ]
  },
  {
   "cell_type": "code",
   "execution_count": 150,
   "id": "69125d91",
   "metadata": {},
   "outputs": [
    {
     "name": "stdout",
     "output_type": "stream",
     "text": [
      "{\"bikes\": 12.989721031500054}\n"
     ]
    },
    {
     "name": "stderr",
     "output_type": "stream",
     "text": [
      "/Users/conorkennedy/opt/miniconda3/envs/comp30830/lib/python3.9/site-packages/sklearn/base.py:450: UserWarning: X does not have valid feature names, but LinearRegression was fitted with feature names\n",
      "  warnings.warn(\n"
     ]
    }
   ],
   "source": [
    "model = load('Avondale Road_model.pkl')\n",
    "bike_avail_predict = model.predict([[5,9]])\n",
    "\n",
    "predict_list = bike_avail_predict.tolist()\n",
    "predict_dict = {\"bikes\": predict_list[0]}\n",
    "result = json.dumps(predict_dict)\n",
    "\n",
    "print(result)"
   ]
  },
  {
   "cell_type": "code",
   "execution_count": 42,
   "id": "7cf37bb9",
   "metadata": {},
   "outputs": [
    {
     "name": "stdout",
     "output_type": "stream",
     "text": [
      "{\"bikes\": 7.9059849219011324}\n"
     ]
    },
    {
     "name": "stderr",
     "output_type": "stream",
     "text": [
      "/Users/conorkennedy/opt/miniconda3/envs/comp30830/lib/python3.9/site-packages/sklearn/base.py:450: UserWarning: X does not have valid feature names, but LinearRegression was fitted with feature names\n",
      "  warnings.warn(\n"
     ]
    }
   ],
   "source": [
    "model = load('Avondale Road_model.pkl')\n",
    "bike_avail_predict = model.predict([[5,9]])\n",
    "\n",
    "predict_list = bike_avail_predict.tolist()\n",
    "predict_dict = {\"bikes\": predict_list[0]}\n",
    "result = json.dumps(predict_dict)\n",
    "\n",
    "print(result)"
   ]
  },
  {
   "cell_type": "code",
   "execution_count": 61,
   "id": "89157b63",
   "metadata": {},
   "outputs": [
    {
     "name": "stdout",
     "output_type": "stream",
     "text": [
      "['Smithfield North', 'Parnell Square North', 'Clonmel Street', 'Avondale Road', 'Mount Street Lower', 'Christchurch Place', 'Grantham Street', 'Pearse Street', 'York Street East', 'Excise Walk', 'Fitzwilliam Square West', 'Portobello Road', 'Parnell Street', 'Frederick Street South', 'Custom House', 'Rathdown Road', \"North Circular Road (O'Connell's)\", 'Hanover Quay', 'Oliver Bond Street', 'Collins Barracks Museum', 'Brookfield Road', 'Benson Street', 'Earlsfort Terrace', 'Golden Lane', 'Deverell Place', 'Wilton Terrace (Park)', 'John Street West', 'Fenian Street', 'Merrion Square South', 'South Dock Road', 'City Quay', 'Exchequer Street', 'The Point', 'Broadstone', 'Hatch Street', 'Lime Street', 'Charlemont Street', 'Kilmainham Gaol', 'Hardwicke Place', 'Wolfe Tone Street', 'Francis Street', 'Greek Street', 'Guild Street', 'Herbert Place', 'High Street', 'North Circular Road', 'Western Way', 'Talbot Street', 'Newman House', \"Sir Patrick's Dun\", 'New Central Bank', 'Grangegorman Lower (Central)', 'King Street North', 'Killarney Street', 'Herbert Street', 'Hanover Quay East', 'Custom House Quay', 'Molesworth Street', 'Georges Quay', 'Kilmainham Lane', 'Mount Brown', 'Market Street South', 'Kevin Street', 'Eccles Street East', 'Grand Canal Dock', 'Merrion Square East', 'York Street West', \"St. Stephen's Green South\", 'Denmark Street Great', 'Royal Hospital', 'Heuston Station (Car Park)', 'Grangegorman Lower (North)', \"St. Stephen's Green East\", 'Heuston Station (Central)', 'Townsend Street', \"George's Lane\", 'Phibsborough Road', 'Eccles Street', 'Portobello Harbour', 'Mater Hospital', 'Blessington Street', 'James Street', 'Mountjoy Square East', 'Merrion Square West', 'Convention Centre', 'Hardwicke Street', 'Parkgate Street', 'Dame Street', 'Heuston Bridge (South)', 'Cathal Brugha Street', 'Sandwith Street', 'Buckingham Street Lower', 'Rothe Abbey', 'Charleville Road', \"Princes Street / O'Connell Street\", 'Upper Sherrard Street', 'Fitzwilliam Square East', 'Grattan Street', 'St James Hospital (Luas)', 'Harcourt Terrace', 'Bolton Street', 'Jervis Street', 'Ormond Quay Upper', 'Grangegorman Lower (South)', 'Mountjoy Square West', 'Wilton Terrace', 'Emmet Road', 'Heuston Bridge (North)', 'Leinster Street South', 'Blackhall Place', 'JCDecaux Ireland, 52 Oriel Street Lower, Dublin 1']\n"
     ]
    }
   ],
   "source": [
    "print(Address_list)"
   ]
  },
  {
   "cell_type": "code",
   "execution_count": null,
   "id": "cb23fe8e",
   "metadata": {},
   "outputs": [],
   "source": []
  }
 ],
 "metadata": {
  "kernelspec": {
   "display_name": "Python 3 (ipykernel)",
   "language": "python",
   "name": "python3"
  },
  "language_info": {
   "codemirror_mode": {
    "name": "ipython",
    "version": 3
   },
   "file_extension": ".py",
   "mimetype": "text/x-python",
   "name": "python",
   "nbconvert_exporter": "python",
   "pygments_lexer": "ipython3",
   "version": "3.9.7"
  }
 },
 "nbformat": 4,
 "nbformat_minor": 5
}
