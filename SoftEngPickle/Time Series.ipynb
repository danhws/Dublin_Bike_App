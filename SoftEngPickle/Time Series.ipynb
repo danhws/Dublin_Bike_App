{
 "cells": [
  {
   "cell_type": "markdown",
   "id": "f8d2e0e4",
   "metadata": {},
   "source": [
    "# Time Series"
   ]
  },
  {
   "cell_type": "code",
   "execution_count": 2,
   "id": "3b34cafd",
   "metadata": {},
   "outputs": [],
   "source": [
    "import pandas as pd\n",
    "import os\n",
    "import sys\n",
    "import mysql.connector\n",
    "\n",
    "from sklearn.linear_model import LinearRegression\n",
    "from sklearn.model_selection import train_test_split\n",
    "from sklearn import metrics\n",
    "from sklearn.model_selection import cross_validate\n",
    "from sklearn.model_selection import cross_val_score \n",
    "from sklearn.tree import DecisionTreeClassifier\n",
    "from sklearn.metrics import accuracy_score\n",
    "from sklearn.ensemble import RandomForestRegressor\n",
    "\n",
    "import matplotlib.pyplot as plt\n",
    "\n",
    "import joblib\n",
    "from joblib import load, dump\n",
    "import pickle\n",
    "import json"
   ]
  },
  {
   "cell_type": "code",
   "execution_count": 3,
   "id": "09546a53",
   "metadata": {},
   "outputs": [],
   "source": [
    "mydb = mysql.connector.connect(\n",
    "host=\"dbbikes.cpwzqhmscagf.eu-west-1.rds.amazonaws.com\",\n",
    "user=\"group20\",\n",
    "password=\"30830Group20\",\n",
    "database=\"dBikes\"\n",
    ")\n",
    "query = \"SELECT * FROM Bikes;\"\n",
    "bikes_df = pd.read_sql(query, mydb)\n",
    "mydb.close()\n",
    "#mycursor = mydb.cursor()"
   ]
  },
  {
   "cell_type": "code",
   "execution_count": 4,
   "id": "736fca39",
   "metadata": {},
   "outputs": [
    {
     "data": {
      "text/html": [
       "<div>\n",
       "<style scoped>\n",
       "    .dataframe tbody tr th:only-of-type {\n",
       "        vertical-align: middle;\n",
       "    }\n",
       "\n",
       "    .dataframe tbody tr th {\n",
       "        vertical-align: top;\n",
       "    }\n",
       "\n",
       "    .dataframe thead th {\n",
       "        text-align: right;\n",
       "    }\n",
       "</style>\n",
       "<table border=\"1\" class=\"dataframe\">\n",
       "  <thead>\n",
       "    <tr style=\"text-align: right;\">\n",
       "      <th></th>\n",
       "      <th>Address</th>\n",
       "      <th>Available_Bikes</th>\n",
       "      <th>Available_Stands</th>\n",
       "      <th>Updated</th>\n",
       "      <th>Status</th>\n",
       "    </tr>\n",
       "  </thead>\n",
       "  <tbody>\n",
       "    <tr>\n",
       "      <th>0</th>\n",
       "      <td>Smithfield North</td>\n",
       "      <td>18</td>\n",
       "      <td>12</td>\n",
       "      <td>1646299228</td>\n",
       "      <td>OPEN</td>\n",
       "    </tr>\n",
       "    <tr>\n",
       "      <th>1</th>\n",
       "      <td>Parnell Square North</td>\n",
       "      <td>3</td>\n",
       "      <td>17</td>\n",
       "      <td>1646299624</td>\n",
       "      <td>OPEN</td>\n",
       "    </tr>\n",
       "    <tr>\n",
       "      <th>2</th>\n",
       "      <td>Clonmel Street</td>\n",
       "      <td>4</td>\n",
       "      <td>29</td>\n",
       "      <td>1646299703</td>\n",
       "      <td>OPEN</td>\n",
       "    </tr>\n",
       "    <tr>\n",
       "      <th>3</th>\n",
       "      <td>Avondale Road</td>\n",
       "      <td>0</td>\n",
       "      <td>35</td>\n",
       "      <td>1646299569</td>\n",
       "      <td>OPEN</td>\n",
       "    </tr>\n",
       "    <tr>\n",
       "      <th>4</th>\n",
       "      <td>Mount Street Lower</td>\n",
       "      <td>6</td>\n",
       "      <td>34</td>\n",
       "      <td>1646299672</td>\n",
       "      <td>OPEN</td>\n",
       "    </tr>\n",
       "  </tbody>\n",
       "</table>\n",
       "</div>"
      ],
      "text/plain": [
       "                Address  Available_Bikes  Available_Stands     Updated Status\n",
       "0      Smithfield North               18                12  1646299228   OPEN\n",
       "1  Parnell Square North                3                17  1646299624   OPEN\n",
       "2        Clonmel Street                4                29  1646299703   OPEN\n",
       "3         Avondale Road                0                35  1646299569   OPEN\n",
       "4    Mount Street Lower                6                34  1646299672   OPEN"
      ]
     },
     "execution_count": 4,
     "metadata": {},
     "output_type": "execute_result"
    }
   ],
   "source": [
    "bikes_df.head()"
   ]
  },
  {
   "cell_type": "code",
   "execution_count": 5,
   "id": "24016bd2",
   "metadata": {},
   "outputs": [
    {
     "data": {
      "text/plain": [
       "Address             object\n",
       "Available_Bikes      int64\n",
       "Available_Stands     int64\n",
       "Updated              int64\n",
       "Status              object\n",
       "dtype: object"
      ]
     },
     "execution_count": 5,
     "metadata": {},
     "output_type": "execute_result"
    }
   ],
   "source": [
    "bikes_df.dtypes"
   ]
  },
  {
   "cell_type": "code",
   "execution_count": 6,
   "id": "a3672fd2",
   "metadata": {},
   "outputs": [
    {
     "data": {
      "text/html": [
       "<div>\n",
       "<style scoped>\n",
       "    .dataframe tbody tr th:only-of-type {\n",
       "        vertical-align: middle;\n",
       "    }\n",
       "\n",
       "    .dataframe tbody tr th {\n",
       "        vertical-align: top;\n",
       "    }\n",
       "\n",
       "    .dataframe thead th {\n",
       "        text-align: right;\n",
       "    }\n",
       "</style>\n",
       "<table border=\"1\" class=\"dataframe\">\n",
       "  <thead>\n",
       "    <tr style=\"text-align: right;\">\n",
       "      <th></th>\n",
       "      <th>count</th>\n",
       "      <th>unique</th>\n",
       "      <th>top</th>\n",
       "      <th>freq</th>\n",
       "    </tr>\n",
       "  </thead>\n",
       "  <tbody>\n",
       "    <tr>\n",
       "      <th>Address</th>\n",
       "      <td>1339583</td>\n",
       "      <td>111</td>\n",
       "      <td>Avondale Road</td>\n",
       "      <td>12154</td>\n",
       "    </tr>\n",
       "    <tr>\n",
       "      <th>Status</th>\n",
       "      <td>1339583</td>\n",
       "      <td>2</td>\n",
       "      <td>OPEN</td>\n",
       "      <td>1332330</td>\n",
       "    </tr>\n",
       "  </tbody>\n",
       "</table>\n",
       "</div>"
      ],
      "text/plain": [
       "           count unique            top     freq\n",
       "Address  1339583    111  Avondale Road    12154\n",
       "Status   1339583      2           OPEN  1332330"
      ]
     },
     "execution_count": 6,
     "metadata": {},
     "output_type": "execute_result"
    }
   ],
   "source": [
    "bikes_df['Address'] = bikes_df['Address'].astype('category')\n",
    "bikes_df['Status'] = bikes_df['Status'].astype('category')\n",
    "categorical_columns = bikes_df[['Address','Status']].columns\n",
    "bikes_df[categorical_columns].describe().T"
   ]
  },
  {
   "cell_type": "code",
   "execution_count": 7,
   "id": "ce58ea3f",
   "metadata": {},
   "outputs": [
    {
     "data": {
      "text/plain": [
       "Address             category\n",
       "Available_Bikes        int64\n",
       "Available_Stands       int64\n",
       "Updated                int64\n",
       "Status              category\n",
       "dtype: object"
      ]
     },
     "execution_count": 7,
     "metadata": {},
     "output_type": "execute_result"
    }
   ],
   "source": [
    "bikes_df.dtypes"
   ]
  },
  {
   "cell_type": "code",
   "execution_count": 8,
   "id": "c0d77727",
   "metadata": {},
   "outputs": [
    {
     "data": {
      "text/html": [
       "<div>\n",
       "<style scoped>\n",
       "    .dataframe tbody tr th:only-of-type {\n",
       "        vertical-align: middle;\n",
       "    }\n",
       "\n",
       "    .dataframe tbody tr th {\n",
       "        vertical-align: top;\n",
       "    }\n",
       "\n",
       "    .dataframe thead th {\n",
       "        text-align: right;\n",
       "    }\n",
       "</style>\n",
       "<table border=\"1\" class=\"dataframe\">\n",
       "  <thead>\n",
       "    <tr style=\"text-align: right;\">\n",
       "      <th></th>\n",
       "      <th>count</th>\n",
       "      <th>mean</th>\n",
       "      <th>std</th>\n",
       "      <th>min</th>\n",
       "      <th>25%</th>\n",
       "      <th>50%</th>\n",
       "      <th>75%</th>\n",
       "      <th>max</th>\n",
       "    </tr>\n",
       "  </thead>\n",
       "  <tbody>\n",
       "    <tr>\n",
       "      <th>Available_Bikes</th>\n",
       "      <td>1339583.0</td>\n",
       "      <td>12.626717</td>\n",
       "      <td>9.127229</td>\n",
       "      <td>0.0</td>\n",
       "      <td>5.0</td>\n",
       "      <td>12.0</td>\n",
       "      <td>19.0</td>\n",
       "      <td>40.0</td>\n",
       "    </tr>\n",
       "    <tr>\n",
       "      <th>Available_Stands</th>\n",
       "      <td>1339583.0</td>\n",
       "      <td>19.087418</td>\n",
       "      <td>10.801298</td>\n",
       "      <td>0.0</td>\n",
       "      <td>11.0</td>\n",
       "      <td>19.0</td>\n",
       "      <td>27.0</td>\n",
       "      <td>40.0</td>\n",
       "    </tr>\n",
       "  </tbody>\n",
       "</table>\n",
       "</div>"
      ],
      "text/plain": [
       "                      count       mean        std  min   25%   50%   75%   max\n",
       "Available_Bikes   1339583.0  12.626717   9.127229  0.0   5.0  12.0  19.0  40.0\n",
       "Available_Stands  1339583.0  19.087418  10.801298  0.0  11.0  19.0  27.0  40.0"
      ]
     },
     "execution_count": 8,
     "metadata": {},
     "output_type": "execute_result"
    }
   ],
   "source": [
    "numeric_columns = bikes_df[['Available_Bikes','Available_Stands']].columns\n",
    "bikes_df[numeric_columns].describe().T"
   ]
  },
  {
   "cell_type": "code",
   "execution_count": 9,
   "id": "13547669",
   "metadata": {},
   "outputs": [],
   "source": [
    "#changing from unix timestamp\n",
    "\n",
    "bikes_df['Updated'] = pd.to_datetime(bikes_df['Updated'],unit='s')"
   ]
  },
  {
   "cell_type": "code",
   "execution_count": 10,
   "id": "b10f6708",
   "metadata": {},
   "outputs": [
    {
     "name": "stderr",
     "output_type": "stream",
     "text": [
      "/var/folders/5l/ksxk0sz53wx59mcldcmchwn40000gn/T/ipykernel_48535/4161221877.py:2: FutureWarning: Treating datetime data as categorical rather than numeric in `.describe` is deprecated and will be removed in a future version of pandas. Specify `datetime_is_numeric=True` to silence this warning and adopt the future behavior now.\n",
      "  bikes_df[DateTime_columns].describe().T\n"
     ]
    },
    {
     "data": {
      "text/html": [
       "<div>\n",
       "<style scoped>\n",
       "    .dataframe tbody tr th:only-of-type {\n",
       "        vertical-align: middle;\n",
       "    }\n",
       "\n",
       "    .dataframe tbody tr th {\n",
       "        vertical-align: top;\n",
       "    }\n",
       "\n",
       "    .dataframe thead th {\n",
       "        text-align: right;\n",
       "    }\n",
       "</style>\n",
       "<table border=\"1\" class=\"dataframe\">\n",
       "  <thead>\n",
       "    <tr style=\"text-align: right;\">\n",
       "      <th></th>\n",
       "      <th>count</th>\n",
       "      <th>unique</th>\n",
       "      <th>top</th>\n",
       "      <th>freq</th>\n",
       "      <th>first</th>\n",
       "      <th>last</th>\n",
       "    </tr>\n",
       "  </thead>\n",
       "  <tbody>\n",
       "    <tr>\n",
       "      <th>Updated</th>\n",
       "      <td>1339583</td>\n",
       "      <td>609851</td>\n",
       "      <td>2022-04-05 14:15:05</td>\n",
       "      <td>2592</td>\n",
       "      <td>2022-03-03 09:19:27</td>\n",
       "      <td>2022-04-14 14:14:14</td>\n",
       "    </tr>\n",
       "  </tbody>\n",
       "</table>\n",
       "</div>"
      ],
      "text/plain": [
       "           count  unique                 top  freq               first  \\\n",
       "Updated  1339583  609851 2022-04-05 14:15:05  2592 2022-03-03 09:19:27   \n",
       "\n",
       "                       last  \n",
       "Updated 2022-04-14 14:14:14  "
      ]
     },
     "execution_count": 10,
     "metadata": {},
     "output_type": "execute_result"
    }
   ],
   "source": [
    "DateTime_columns = bikes_df.select_dtypes(['datetime64[ns]']).columns\n",
    "bikes_df[DateTime_columns].describe().T"
   ]
  },
  {
   "cell_type": "code",
   "execution_count": 11,
   "id": "1dbdf311",
   "metadata": {},
   "outputs": [
    {
     "data": {
      "text/html": [
       "<div>\n",
       "<style scoped>\n",
       "    .dataframe tbody tr th:only-of-type {\n",
       "        vertical-align: middle;\n",
       "    }\n",
       "\n",
       "    .dataframe tbody tr th {\n",
       "        vertical-align: top;\n",
       "    }\n",
       "\n",
       "    .dataframe thead th {\n",
       "        text-align: right;\n",
       "    }\n",
       "</style>\n",
       "<table border=\"1\" class=\"dataframe\">\n",
       "  <thead>\n",
       "    <tr style=\"text-align: right;\">\n",
       "      <th></th>\n",
       "      <th>Address</th>\n",
       "      <th>Available_Bikes</th>\n",
       "      <th>Available_Stands</th>\n",
       "      <th>Updated</th>\n",
       "      <th>Status</th>\n",
       "    </tr>\n",
       "  </thead>\n",
       "  <tbody>\n",
       "    <tr>\n",
       "      <th>0</th>\n",
       "      <td>Smithfield North</td>\n",
       "      <td>18</td>\n",
       "      <td>12</td>\n",
       "      <td>2022-03-03 09:20:28</td>\n",
       "      <td>OPEN</td>\n",
       "    </tr>\n",
       "    <tr>\n",
       "      <th>1</th>\n",
       "      <td>Parnell Square North</td>\n",
       "      <td>3</td>\n",
       "      <td>17</td>\n",
       "      <td>2022-03-03 09:27:04</td>\n",
       "      <td>OPEN</td>\n",
       "    </tr>\n",
       "    <tr>\n",
       "      <th>2</th>\n",
       "      <td>Clonmel Street</td>\n",
       "      <td>4</td>\n",
       "      <td>29</td>\n",
       "      <td>2022-03-03 09:28:23</td>\n",
       "      <td>OPEN</td>\n",
       "    </tr>\n",
       "    <tr>\n",
       "      <th>3</th>\n",
       "      <td>Avondale Road</td>\n",
       "      <td>0</td>\n",
       "      <td>35</td>\n",
       "      <td>2022-03-03 09:26:09</td>\n",
       "      <td>OPEN</td>\n",
       "    </tr>\n",
       "    <tr>\n",
       "      <th>4</th>\n",
       "      <td>Mount Street Lower</td>\n",
       "      <td>6</td>\n",
       "      <td>34</td>\n",
       "      <td>2022-03-03 09:27:52</td>\n",
       "      <td>OPEN</td>\n",
       "    </tr>\n",
       "  </tbody>\n",
       "</table>\n",
       "</div>"
      ],
      "text/plain": [
       "                Address  Available_Bikes  Available_Stands  \\\n",
       "0      Smithfield North               18                12   \n",
       "1  Parnell Square North                3                17   \n",
       "2        Clonmel Street                4                29   \n",
       "3         Avondale Road                0                35   \n",
       "4    Mount Street Lower                6                34   \n",
       "\n",
       "              Updated Status  \n",
       "0 2022-03-03 09:20:28   OPEN  \n",
       "1 2022-03-03 09:27:04   OPEN  \n",
       "2 2022-03-03 09:28:23   OPEN  \n",
       "3 2022-03-03 09:26:09   OPEN  \n",
       "4 2022-03-03 09:27:52   OPEN  "
      ]
     },
     "execution_count": 11,
     "metadata": {},
     "output_type": "execute_result"
    }
   ],
   "source": [
    "bikes_df.head()"
   ]
  },
  {
   "cell_type": "markdown",
   "id": "6a6e1cee",
   "metadata": {},
   "source": [
    "The user will be able to see the expected number of bikes for their chosen station by inputting a date and time in the future. Therefore, the day of the week and the hour has been extracted from the 'Updated' column."
   ]
  },
  {
   "cell_type": "code",
   "execution_count": 12,
   "id": "87094aed",
   "metadata": {},
   "outputs": [
    {
     "data": {
      "text/html": [
       "<div>\n",
       "<style scoped>\n",
       "    .dataframe tbody tr th:only-of-type {\n",
       "        vertical-align: middle;\n",
       "    }\n",
       "\n",
       "    .dataframe tbody tr th {\n",
       "        vertical-align: top;\n",
       "    }\n",
       "\n",
       "    .dataframe thead th {\n",
       "        text-align: right;\n",
       "    }\n",
       "</style>\n",
       "<table border=\"1\" class=\"dataframe\">\n",
       "  <thead>\n",
       "    <tr style=\"text-align: right;\">\n",
       "      <th></th>\n",
       "      <th>Address</th>\n",
       "      <th>Available_Bikes</th>\n",
       "      <th>Available_Stands</th>\n",
       "      <th>Updated</th>\n",
       "      <th>Status</th>\n",
       "      <th>hour_of_day</th>\n",
       "    </tr>\n",
       "  </thead>\n",
       "  <tbody>\n",
       "    <tr>\n",
       "      <th>0</th>\n",
       "      <td>Smithfield North</td>\n",
       "      <td>18</td>\n",
       "      <td>12</td>\n",
       "      <td>2022-03-03 09:20:28</td>\n",
       "      <td>OPEN</td>\n",
       "      <td>9</td>\n",
       "    </tr>\n",
       "    <tr>\n",
       "      <th>1</th>\n",
       "      <td>Parnell Square North</td>\n",
       "      <td>3</td>\n",
       "      <td>17</td>\n",
       "      <td>2022-03-03 09:27:04</td>\n",
       "      <td>OPEN</td>\n",
       "      <td>9</td>\n",
       "    </tr>\n",
       "    <tr>\n",
       "      <th>2</th>\n",
       "      <td>Clonmel Street</td>\n",
       "      <td>4</td>\n",
       "      <td>29</td>\n",
       "      <td>2022-03-03 09:28:23</td>\n",
       "      <td>OPEN</td>\n",
       "      <td>9</td>\n",
       "    </tr>\n",
       "    <tr>\n",
       "      <th>3</th>\n",
       "      <td>Avondale Road</td>\n",
       "      <td>0</td>\n",
       "      <td>35</td>\n",
       "      <td>2022-03-03 09:26:09</td>\n",
       "      <td>OPEN</td>\n",
       "      <td>9</td>\n",
       "    </tr>\n",
       "    <tr>\n",
       "      <th>4</th>\n",
       "      <td>Mount Street Lower</td>\n",
       "      <td>6</td>\n",
       "      <td>34</td>\n",
       "      <td>2022-03-03 09:27:52</td>\n",
       "      <td>OPEN</td>\n",
       "      <td>9</td>\n",
       "    </tr>\n",
       "  </tbody>\n",
       "</table>\n",
       "</div>"
      ],
      "text/plain": [
       "                Address  Available_Bikes  Available_Stands  \\\n",
       "0      Smithfield North               18                12   \n",
       "1  Parnell Square North                3                17   \n",
       "2        Clonmel Street                4                29   \n",
       "3         Avondale Road                0                35   \n",
       "4    Mount Street Lower                6                34   \n",
       "\n",
       "              Updated Status  hour_of_day  \n",
       "0 2022-03-03 09:20:28   OPEN            9  \n",
       "1 2022-03-03 09:27:04   OPEN            9  \n",
       "2 2022-03-03 09:28:23   OPEN            9  \n",
       "3 2022-03-03 09:26:09   OPEN            9  \n",
       "4 2022-03-03 09:27:52   OPEN            9  "
      ]
     },
     "execution_count": 12,
     "metadata": {},
     "output_type": "execute_result"
    }
   ],
   "source": [
    "#column for hour of the day\n",
    "\n",
    "bikes_df['hour_of_day'] = bikes_df['Updated'].dt.hour\n",
    "bikes_df.head()"
   ]
  },
  {
   "cell_type": "code",
   "execution_count": 13,
   "id": "62fa27a0",
   "metadata": {},
   "outputs": [
    {
     "data": {
      "text/html": [
       "<div>\n",
       "<style scoped>\n",
       "    .dataframe tbody tr th:only-of-type {\n",
       "        vertical-align: middle;\n",
       "    }\n",
       "\n",
       "    .dataframe tbody tr th {\n",
       "        vertical-align: top;\n",
       "    }\n",
       "\n",
       "    .dataframe thead th {\n",
       "        text-align: right;\n",
       "    }\n",
       "</style>\n",
       "<table border=\"1\" class=\"dataframe\">\n",
       "  <thead>\n",
       "    <tr style=\"text-align: right;\">\n",
       "      <th></th>\n",
       "      <th>Address</th>\n",
       "      <th>Available_Bikes</th>\n",
       "      <th>Available_Stands</th>\n",
       "      <th>Updated</th>\n",
       "      <th>Status</th>\n",
       "      <th>hour_of_day</th>\n",
       "      <th>day_of_week</th>\n",
       "    </tr>\n",
       "  </thead>\n",
       "  <tbody>\n",
       "    <tr>\n",
       "      <th>0</th>\n",
       "      <td>Smithfield North</td>\n",
       "      <td>18</td>\n",
       "      <td>12</td>\n",
       "      <td>2022-03-03 09:20:28</td>\n",
       "      <td>OPEN</td>\n",
       "      <td>9</td>\n",
       "      <td>3</td>\n",
       "    </tr>\n",
       "    <tr>\n",
       "      <th>1</th>\n",
       "      <td>Parnell Square North</td>\n",
       "      <td>3</td>\n",
       "      <td>17</td>\n",
       "      <td>2022-03-03 09:27:04</td>\n",
       "      <td>OPEN</td>\n",
       "      <td>9</td>\n",
       "      <td>3</td>\n",
       "    </tr>\n",
       "    <tr>\n",
       "      <th>2</th>\n",
       "      <td>Clonmel Street</td>\n",
       "      <td>4</td>\n",
       "      <td>29</td>\n",
       "      <td>2022-03-03 09:28:23</td>\n",
       "      <td>OPEN</td>\n",
       "      <td>9</td>\n",
       "      <td>3</td>\n",
       "    </tr>\n",
       "    <tr>\n",
       "      <th>3</th>\n",
       "      <td>Avondale Road</td>\n",
       "      <td>0</td>\n",
       "      <td>35</td>\n",
       "      <td>2022-03-03 09:26:09</td>\n",
       "      <td>OPEN</td>\n",
       "      <td>9</td>\n",
       "      <td>3</td>\n",
       "    </tr>\n",
       "    <tr>\n",
       "      <th>4</th>\n",
       "      <td>Mount Street Lower</td>\n",
       "      <td>6</td>\n",
       "      <td>34</td>\n",
       "      <td>2022-03-03 09:27:52</td>\n",
       "      <td>OPEN</td>\n",
       "      <td>9</td>\n",
       "      <td>3</td>\n",
       "    </tr>\n",
       "  </tbody>\n",
       "</table>\n",
       "</div>"
      ],
      "text/plain": [
       "                Address  Available_Bikes  Available_Stands  \\\n",
       "0      Smithfield North               18                12   \n",
       "1  Parnell Square North                3                17   \n",
       "2        Clonmel Street                4                29   \n",
       "3         Avondale Road                0                35   \n",
       "4    Mount Street Lower                6                34   \n",
       "\n",
       "              Updated Status  hour_of_day  day_of_week  \n",
       "0 2022-03-03 09:20:28   OPEN            9            3  \n",
       "1 2022-03-03 09:27:04   OPEN            9            3  \n",
       "2 2022-03-03 09:28:23   OPEN            9            3  \n",
       "3 2022-03-03 09:26:09   OPEN            9            3  \n",
       "4 2022-03-03 09:27:52   OPEN            9            3  "
      ]
     },
     "execution_count": 13,
     "metadata": {},
     "output_type": "execute_result"
    }
   ],
   "source": [
    "#getting column for the day of week\n",
    "\n",
    "bikes_df['day_of_week'] = bikes_df['Updated'].dt.dayofweek\n",
    "\n",
    "\n",
    "bikes_df.head()"
   ]
  },
  {
   "cell_type": "code",
   "execution_count": 14,
   "id": "b71f36ef",
   "metadata": {},
   "outputs": [
    {
     "data": {
      "text/html": [
       "<div>\n",
       "<style scoped>\n",
       "    .dataframe tbody tr th:only-of-type {\n",
       "        vertical-align: middle;\n",
       "    }\n",
       "\n",
       "    .dataframe tbody tr th {\n",
       "        vertical-align: top;\n",
       "    }\n",
       "\n",
       "    .dataframe thead th {\n",
       "        text-align: right;\n",
       "    }\n",
       "</style>\n",
       "<table border=\"1\" class=\"dataframe\">\n",
       "  <thead>\n",
       "    <tr style=\"text-align: right;\">\n",
       "      <th></th>\n",
       "      <th>count</th>\n",
       "      <th>mean</th>\n",
       "      <th>std</th>\n",
       "      <th>min</th>\n",
       "      <th>25%</th>\n",
       "      <th>50%</th>\n",
       "      <th>75%</th>\n",
       "      <th>max</th>\n",
       "    </tr>\n",
       "  </thead>\n",
       "  <tbody>\n",
       "    <tr>\n",
       "      <th>Available_Bikes</th>\n",
       "      <td>1339583.0</td>\n",
       "      <td>12.626717</td>\n",
       "      <td>9.127229</td>\n",
       "      <td>0.0</td>\n",
       "      <td>5.0</td>\n",
       "      <td>12.0</td>\n",
       "      <td>19.0</td>\n",
       "      <td>40.0</td>\n",
       "    </tr>\n",
       "    <tr>\n",
       "      <th>Available_Stands</th>\n",
       "      <td>1339583.0</td>\n",
       "      <td>19.087418</td>\n",
       "      <td>10.801298</td>\n",
       "      <td>0.0</td>\n",
       "      <td>11.0</td>\n",
       "      <td>19.0</td>\n",
       "      <td>27.0</td>\n",
       "      <td>40.0</td>\n",
       "    </tr>\n",
       "    <tr>\n",
       "      <th>hour_of_day</th>\n",
       "      <td>1339583.0</td>\n",
       "      <td>11.510155</td>\n",
       "      <td>6.889129</td>\n",
       "      <td>0.0</td>\n",
       "      <td>6.0</td>\n",
       "      <td>12.0</td>\n",
       "      <td>17.0</td>\n",
       "      <td>23.0</td>\n",
       "    </tr>\n",
       "    <tr>\n",
       "      <th>day_of_week</th>\n",
       "      <td>1339583.0</td>\n",
       "      <td>2.995581</td>\n",
       "      <td>1.995828</td>\n",
       "      <td>0.0</td>\n",
       "      <td>1.0</td>\n",
       "      <td>3.0</td>\n",
       "      <td>5.0</td>\n",
       "      <td>6.0</td>\n",
       "    </tr>\n",
       "  </tbody>\n",
       "</table>\n",
       "</div>"
      ],
      "text/plain": [
       "                      count       mean        std  min   25%   50%   75%   max\n",
       "Available_Bikes   1339583.0  12.626717   9.127229  0.0   5.0  12.0  19.0  40.0\n",
       "Available_Stands  1339583.0  19.087418  10.801298  0.0  11.0  19.0  27.0  40.0\n",
       "hour_of_day       1339583.0  11.510155   6.889129  0.0   6.0  12.0  17.0  23.0\n",
       "day_of_week       1339583.0   2.995581   1.995828  0.0   1.0   3.0   5.0   6.0"
      ]
     },
     "execution_count": 14,
     "metadata": {},
     "output_type": "execute_result"
    }
   ],
   "source": [
    "categorical_columns = bikes_df[['Address']].columns\n",
    "\n",
    "continuous_columns = bikes_df[['Available_Bikes', 'Available_Stands', 'hour_of_day', 'day_of_week']].columns\n",
    "\n",
    "bikes_df[continuous_columns].describe().T"
   ]
  },
  {
   "cell_type": "code",
   "execution_count": 15,
   "id": "3db44efb",
   "metadata": {},
   "outputs": [
    {
     "data": {
      "text/html": [
       "<div>\n",
       "<style scoped>\n",
       "    .dataframe tbody tr th:only-of-type {\n",
       "        vertical-align: middle;\n",
       "    }\n",
       "\n",
       "    .dataframe tbody tr th {\n",
       "        vertical-align: top;\n",
       "    }\n",
       "\n",
       "    .dataframe thead th {\n",
       "        text-align: right;\n",
       "    }\n",
       "</style>\n",
       "<table border=\"1\" class=\"dataframe\">\n",
       "  <thead>\n",
       "    <tr style=\"text-align: right;\">\n",
       "      <th></th>\n",
       "      <th>count</th>\n",
       "      <th>unique</th>\n",
       "      <th>top</th>\n",
       "      <th>freq</th>\n",
       "    </tr>\n",
       "  </thead>\n",
       "  <tbody>\n",
       "    <tr>\n",
       "      <th>Address</th>\n",
       "      <td>1339583</td>\n",
       "      <td>111</td>\n",
       "      <td>Avondale Road</td>\n",
       "      <td>12154</td>\n",
       "    </tr>\n",
       "  </tbody>\n",
       "</table>\n",
       "</div>"
      ],
      "text/plain": [
       "           count unique            top   freq\n",
       "Address  1339583    111  Avondale Road  12154"
      ]
     },
     "execution_count": 15,
     "metadata": {},
     "output_type": "execute_result"
    }
   ],
   "source": [
    "bikes_df[categorical_columns].describe().T"
   ]
  },
  {
   "cell_type": "code",
   "execution_count": 16,
   "id": "0b9f5fcc",
   "metadata": {},
   "outputs": [
    {
     "data": {
      "text/html": [
       "<div>\n",
       "<style scoped>\n",
       "    .dataframe tbody tr th:only-of-type {\n",
       "        vertical-align: middle;\n",
       "    }\n",
       "\n",
       "    .dataframe tbody tr th {\n",
       "        vertical-align: top;\n",
       "    }\n",
       "\n",
       "    .dataframe thead th {\n",
       "        text-align: right;\n",
       "    }\n",
       "</style>\n",
       "<table border=\"1\" class=\"dataframe\">\n",
       "  <thead>\n",
       "    <tr style=\"text-align: right;\">\n",
       "      <th></th>\n",
       "      <th>Address</th>\n",
       "      <th>Available_Bikes</th>\n",
       "      <th>Available_Stands</th>\n",
       "      <th>Updated</th>\n",
       "      <th>Status</th>\n",
       "      <th>hour_of_day</th>\n",
       "      <th>day_of_week</th>\n",
       "    </tr>\n",
       "  </thead>\n",
       "  <tbody>\n",
       "    <tr>\n",
       "      <th>0</th>\n",
       "      <td>Smithfield North</td>\n",
       "      <td>18</td>\n",
       "      <td>12</td>\n",
       "      <td>2022-03-03 09:20:28</td>\n",
       "      <td>OPEN</td>\n",
       "      <td>9</td>\n",
       "      <td>3</td>\n",
       "    </tr>\n",
       "    <tr>\n",
       "      <th>1</th>\n",
       "      <td>Parnell Square North</td>\n",
       "      <td>3</td>\n",
       "      <td>17</td>\n",
       "      <td>2022-03-03 09:27:04</td>\n",
       "      <td>OPEN</td>\n",
       "      <td>9</td>\n",
       "      <td>3</td>\n",
       "    </tr>\n",
       "    <tr>\n",
       "      <th>2</th>\n",
       "      <td>Clonmel Street</td>\n",
       "      <td>4</td>\n",
       "      <td>29</td>\n",
       "      <td>2022-03-03 09:28:23</td>\n",
       "      <td>OPEN</td>\n",
       "      <td>9</td>\n",
       "      <td>3</td>\n",
       "    </tr>\n",
       "    <tr>\n",
       "      <th>3</th>\n",
       "      <td>Avondale Road</td>\n",
       "      <td>0</td>\n",
       "      <td>35</td>\n",
       "      <td>2022-03-03 09:26:09</td>\n",
       "      <td>OPEN</td>\n",
       "      <td>9</td>\n",
       "      <td>3</td>\n",
       "    </tr>\n",
       "    <tr>\n",
       "      <th>4</th>\n",
       "      <td>Mount Street Lower</td>\n",
       "      <td>6</td>\n",
       "      <td>34</td>\n",
       "      <td>2022-03-03 09:27:52</td>\n",
       "      <td>OPEN</td>\n",
       "      <td>9</td>\n",
       "      <td>3</td>\n",
       "    </tr>\n",
       "  </tbody>\n",
       "</table>\n",
       "</div>"
      ],
      "text/plain": [
       "                Address  Available_Bikes  Available_Stands  \\\n",
       "0      Smithfield North               18                12   \n",
       "1  Parnell Square North                3                17   \n",
       "2        Clonmel Street                4                29   \n",
       "3         Avondale Road                0                35   \n",
       "4    Mount Street Lower                6                34   \n",
       "\n",
       "              Updated Status  hour_of_day  day_of_week  \n",
       "0 2022-03-03 09:20:28   OPEN            9            3  \n",
       "1 2022-03-03 09:27:04   OPEN            9            3  \n",
       "2 2022-03-03 09:28:23   OPEN            9            3  \n",
       "3 2022-03-03 09:26:09   OPEN            9            3  \n",
       "4 2022-03-03 09:27:52   OPEN            9            3  "
      ]
     },
     "execution_count": 16,
     "metadata": {},
     "output_type": "execute_result"
    }
   ],
   "source": [
    "bikes_df.head()"
   ]
  },
  {
   "cell_type": "code",
   "execution_count": 17,
   "id": "97d74daf",
   "metadata": {},
   "outputs": [
    {
     "name": "stderr",
     "output_type": "stream",
     "text": [
      "/var/folders/5l/ksxk0sz53wx59mcldcmchwn40000gn/T/ipykernel_48535/2022165023.py:1: FutureWarning: Series.dt.weekofyear and Series.dt.week have been deprecated.  Please use Series.dt.isocalendar().week instead.\n",
      "  bikes_df['Week_Number'] = bikes_df['Updated'].dt.week\n"
     ]
    },
    {
     "data": {
      "text/html": [
       "<div>\n",
       "<style scoped>\n",
       "    .dataframe tbody tr th:only-of-type {\n",
       "        vertical-align: middle;\n",
       "    }\n",
       "\n",
       "    .dataframe tbody tr th {\n",
       "        vertical-align: top;\n",
       "    }\n",
       "\n",
       "    .dataframe thead th {\n",
       "        text-align: right;\n",
       "    }\n",
       "</style>\n",
       "<table border=\"1\" class=\"dataframe\">\n",
       "  <thead>\n",
       "    <tr style=\"text-align: right;\">\n",
       "      <th></th>\n",
       "      <th>Address</th>\n",
       "      <th>Available_Bikes</th>\n",
       "      <th>Available_Stands</th>\n",
       "      <th>Updated</th>\n",
       "      <th>Status</th>\n",
       "      <th>hour_of_day</th>\n",
       "      <th>day_of_week</th>\n",
       "      <th>Week_Number</th>\n",
       "    </tr>\n",
       "  </thead>\n",
       "  <tbody>\n",
       "    <tr>\n",
       "      <th>0</th>\n",
       "      <td>Smithfield North</td>\n",
       "      <td>18</td>\n",
       "      <td>12</td>\n",
       "      <td>2022-03-03 09:20:28</td>\n",
       "      <td>OPEN</td>\n",
       "      <td>9</td>\n",
       "      <td>3</td>\n",
       "      <td>9</td>\n",
       "    </tr>\n",
       "    <tr>\n",
       "      <th>1</th>\n",
       "      <td>Parnell Square North</td>\n",
       "      <td>3</td>\n",
       "      <td>17</td>\n",
       "      <td>2022-03-03 09:27:04</td>\n",
       "      <td>OPEN</td>\n",
       "      <td>9</td>\n",
       "      <td>3</td>\n",
       "      <td>9</td>\n",
       "    </tr>\n",
       "    <tr>\n",
       "      <th>2</th>\n",
       "      <td>Clonmel Street</td>\n",
       "      <td>4</td>\n",
       "      <td>29</td>\n",
       "      <td>2022-03-03 09:28:23</td>\n",
       "      <td>OPEN</td>\n",
       "      <td>9</td>\n",
       "      <td>3</td>\n",
       "      <td>9</td>\n",
       "    </tr>\n",
       "    <tr>\n",
       "      <th>3</th>\n",
       "      <td>Avondale Road</td>\n",
       "      <td>0</td>\n",
       "      <td>35</td>\n",
       "      <td>2022-03-03 09:26:09</td>\n",
       "      <td>OPEN</td>\n",
       "      <td>9</td>\n",
       "      <td>3</td>\n",
       "      <td>9</td>\n",
       "    </tr>\n",
       "    <tr>\n",
       "      <th>4</th>\n",
       "      <td>Mount Street Lower</td>\n",
       "      <td>6</td>\n",
       "      <td>34</td>\n",
       "      <td>2022-03-03 09:27:52</td>\n",
       "      <td>OPEN</td>\n",
       "      <td>9</td>\n",
       "      <td>3</td>\n",
       "      <td>9</td>\n",
       "    </tr>\n",
       "  </tbody>\n",
       "</table>\n",
       "</div>"
      ],
      "text/plain": [
       "                Address  Available_Bikes  Available_Stands  \\\n",
       "0      Smithfield North               18                12   \n",
       "1  Parnell Square North                3                17   \n",
       "2        Clonmel Street                4                29   \n",
       "3         Avondale Road                0                35   \n",
       "4    Mount Street Lower                6                34   \n",
       "\n",
       "              Updated Status  hour_of_day  day_of_week  Week_Number  \n",
       "0 2022-03-03 09:20:28   OPEN            9            3            9  \n",
       "1 2022-03-03 09:27:04   OPEN            9            3            9  \n",
       "2 2022-03-03 09:28:23   OPEN            9            3            9  \n",
       "3 2022-03-03 09:26:09   OPEN            9            3            9  \n",
       "4 2022-03-03 09:27:52   OPEN            9            3            9  "
      ]
     },
     "execution_count": 17,
     "metadata": {},
     "output_type": "execute_result"
    }
   ],
   "source": [
    "bikes_df['Week_Number'] = bikes_df['Updated'].dt.week\n",
    "bikes_df.head()"
   ]
  },
  {
   "cell_type": "code",
   "execution_count": 18,
   "id": "8aaf115d",
   "metadata": {},
   "outputs": [
    {
     "data": {
      "text/plain": [
       "array([ 9, 10, 11, 12, 13, 14, 15])"
      ]
     },
     "execution_count": 18,
     "metadata": {},
     "output_type": "execute_result"
    }
   ],
   "source": [
    "bikes_df[\"Week_Number\"].unique()"
   ]
  },
  {
   "cell_type": "markdown",
   "id": "9a36594f",
   "metadata": {},
   "source": [
    "Picking three station at random, will look at the time series for number of bikes available over the week."
   ]
  },
  {
   "cell_type": "code",
   "execution_count": 19,
   "id": "4c69be00",
   "metadata": {},
   "outputs": [
    {
     "data": {
      "text/html": [
       "<div>\n",
       "<style scoped>\n",
       "    .dataframe tbody tr th:only-of-type {\n",
       "        vertical-align: middle;\n",
       "    }\n",
       "\n",
       "    .dataframe tbody tr th {\n",
       "        vertical-align: top;\n",
       "    }\n",
       "\n",
       "    .dataframe thead th {\n",
       "        text-align: right;\n",
       "    }\n",
       "</style>\n",
       "<table border=\"1\" class=\"dataframe\">\n",
       "  <thead>\n",
       "    <tr style=\"text-align: right;\">\n",
       "      <th></th>\n",
       "      <th>Address</th>\n",
       "      <th>Available_Bikes</th>\n",
       "      <th>Available_Stands</th>\n",
       "      <th>Updated</th>\n",
       "      <th>Status</th>\n",
       "      <th>hour_of_day</th>\n",
       "      <th>day_of_week</th>\n",
       "      <th>Week_Number</th>\n",
       "    </tr>\n",
       "  </thead>\n",
       "  <tbody>\n",
       "    <tr>\n",
       "      <th>114290</th>\n",
       "      <td>Smithfield North</td>\n",
       "      <td>27</td>\n",
       "      <td>3</td>\n",
       "      <td>2022-03-07 00:01:56</td>\n",
       "      <td>OPEN</td>\n",
       "      <td>0</td>\n",
       "      <td>0</td>\n",
       "      <td>10</td>\n",
       "    </tr>\n",
       "    <tr>\n",
       "      <th>114291</th>\n",
       "      <td>Parnell Square North</td>\n",
       "      <td>0</td>\n",
       "      <td>20</td>\n",
       "      <td>2022-03-07 00:03:58</td>\n",
       "      <td>OPEN</td>\n",
       "      <td>0</td>\n",
       "      <td>0</td>\n",
       "      <td>10</td>\n",
       "    </tr>\n",
       "    <tr>\n",
       "      <th>114292</th>\n",
       "      <td>Clonmel Street</td>\n",
       "      <td>14</td>\n",
       "      <td>19</td>\n",
       "      <td>2022-03-07 00:02:44</td>\n",
       "      <td>OPEN</td>\n",
       "      <td>0</td>\n",
       "      <td>0</td>\n",
       "      <td>10</td>\n",
       "    </tr>\n",
       "    <tr>\n",
       "      <th>114295</th>\n",
       "      <td>Christchurch Place</td>\n",
       "      <td>8</td>\n",
       "      <td>12</td>\n",
       "      <td>2022-03-07 00:01:29</td>\n",
       "      <td>OPEN</td>\n",
       "      <td>0</td>\n",
       "      <td>0</td>\n",
       "      <td>10</td>\n",
       "    </tr>\n",
       "    <tr>\n",
       "      <th>114296</th>\n",
       "      <td>Grantham Street</td>\n",
       "      <td>25</td>\n",
       "      <td>5</td>\n",
       "      <td>2022-03-07 00:01:38</td>\n",
       "      <td>OPEN</td>\n",
       "      <td>0</td>\n",
       "      <td>0</td>\n",
       "      <td>10</td>\n",
       "    </tr>\n",
       "    <tr>\n",
       "      <th>...</th>\n",
       "      <td>...</td>\n",
       "      <td>...</td>\n",
       "      <td>...</td>\n",
       "      <td>...</td>\n",
       "      <td>...</td>\n",
       "      <td>...</td>\n",
       "      <td>...</td>\n",
       "      <td>...</td>\n",
       "    </tr>\n",
       "    <tr>\n",
       "      <th>336172</th>\n",
       "      <td>Parnell Street</td>\n",
       "      <td>10</td>\n",
       "      <td>9</td>\n",
       "      <td>2022-03-13 23:59:45</td>\n",
       "      <td>OPEN</td>\n",
       "      <td>23</td>\n",
       "      <td>6</td>\n",
       "      <td>10</td>\n",
       "    </tr>\n",
       "    <tr>\n",
       "      <th>336181</th>\n",
       "      <td>Benson Street</td>\n",
       "      <td>3</td>\n",
       "      <td>37</td>\n",
       "      <td>2022-03-13 23:59:46</td>\n",
       "      <td>OPEN</td>\n",
       "      <td>23</td>\n",
       "      <td>6</td>\n",
       "      <td>10</td>\n",
       "    </tr>\n",
       "    <tr>\n",
       "      <th>336186</th>\n",
       "      <td>John Street West</td>\n",
       "      <td>15</td>\n",
       "      <td>16</td>\n",
       "      <td>2022-03-13 23:59:28</td>\n",
       "      <td>OPEN</td>\n",
       "      <td>23</td>\n",
       "      <td>6</td>\n",
       "      <td>10</td>\n",
       "    </tr>\n",
       "    <tr>\n",
       "      <th>336196</th>\n",
       "      <td>Charlemont Street</td>\n",
       "      <td>3</td>\n",
       "      <td>37</td>\n",
       "      <td>2022-03-13 23:59:44</td>\n",
       "      <td>OPEN</td>\n",
       "      <td>23</td>\n",
       "      <td>6</td>\n",
       "      <td>10</td>\n",
       "    </tr>\n",
       "    <tr>\n",
       "      <th>336197</th>\n",
       "      <td>Kilmainham Gaol</td>\n",
       "      <td>23</td>\n",
       "      <td>17</td>\n",
       "      <td>2022-03-13 23:59:22</td>\n",
       "      <td>OPEN</td>\n",
       "      <td>23</td>\n",
       "      <td>6</td>\n",
       "      <td>10</td>\n",
       "    </tr>\n",
       "  </tbody>\n",
       "</table>\n",
       "<p>221774 rows × 8 columns</p>\n",
       "</div>"
      ],
      "text/plain": [
       "                     Address  Available_Bikes  Available_Stands  \\\n",
       "114290      Smithfield North               27                 3   \n",
       "114291  Parnell Square North                0                20   \n",
       "114292        Clonmel Street               14                19   \n",
       "114295    Christchurch Place                8                12   \n",
       "114296       Grantham Street               25                 5   \n",
       "...                      ...              ...               ...   \n",
       "336172        Parnell Street               10                 9   \n",
       "336181         Benson Street                3                37   \n",
       "336186      John Street West               15                16   \n",
       "336196     Charlemont Street                3                37   \n",
       "336197       Kilmainham Gaol               23                17   \n",
       "\n",
       "                   Updated Status  hour_of_day  day_of_week  Week_Number  \n",
       "114290 2022-03-07 00:01:56   OPEN            0            0           10  \n",
       "114291 2022-03-07 00:03:58   OPEN            0            0           10  \n",
       "114292 2022-03-07 00:02:44   OPEN            0            0           10  \n",
       "114295 2022-03-07 00:01:29   OPEN            0            0           10  \n",
       "114296 2022-03-07 00:01:38   OPEN            0            0           10  \n",
       "...                    ...    ...          ...          ...          ...  \n",
       "336172 2022-03-13 23:59:45   OPEN           23            6           10  \n",
       "336181 2022-03-13 23:59:46   OPEN           23            6           10  \n",
       "336186 2022-03-13 23:59:28   OPEN           23            6           10  \n",
       "336196 2022-03-13 23:59:44   OPEN           23            6           10  \n",
       "336197 2022-03-13 23:59:22   OPEN           23            6           10  \n",
       "\n",
       "[221774 rows x 8 columns]"
      ]
     },
     "execution_count": 19,
     "metadata": {},
     "output_type": "execute_result"
    }
   ],
   "source": [
    "week_number_10 = bikes_df[(bikes_df['Week_Number'] == 10)]\n",
    "\n",
    "week_number_10"
   ]
  },
  {
   "cell_type": "code",
   "execution_count": 61,
   "id": "d7e80c94",
   "metadata": {},
   "outputs": [],
   "source": [
    "Earls_ = week_number_10[(week_number_10['Address'] == \"Earlsfort Terrace\")]"
   ]
  },
  {
   "cell_type": "code",
   "execution_count": 21,
   "id": "a018aafc",
   "metadata": {},
   "outputs": [],
   "source": [
    "Earls_tue = Earls_[(Earls_['day_of_week'] == 2)]"
   ]
  },
  {
   "cell_type": "code",
   "execution_count": 26,
   "id": "a2aa6918",
   "metadata": {},
   "outputs": [
    {
     "data": {
      "text/plain": [
       "Text(0.5, 1.0, 'Earlsforth Terrace Station on Wednesday, 9th of March')"
      ]
     },
     "execution_count": 26,
     "metadata": {},
     "output_type": "execute_result"
    },
    {
     "data": {
      "image/png": "[encoded data removed]",
      "text/plain": [
       "<Figure size 432x288 with 1 Axes>"
      ]
     },
     "metadata": {
      "needs_background": "light"
     },
     "output_type": "display_data"
    }
   ],
   "source": [
    "plt.plot(Earls_tue[\"hour_of_day\"],Earls_tue[\"Available_Bikes\"])\n",
    "plt.xlabel('Hour of Day')\n",
    "plt.ylabel('Number of Bikes')\n",
    "plt.title('Earlsforth Terrace Station on Wednesday, 9th of March')"
   ]
  },
  {
   "cell_type": "code",
   "execution_count": 56,
   "id": "280f508c",
   "metadata": {},
   "outputs": [],
   "source": [
    "time = [0, 1, 2, 3, 4, 5, 6, 7, 8, 9, 10, 11, 12, 13, 14, 15, 16, 17, 18, 19, 20, 21, 22, 23]"
   ]
  },
  {
   "cell_type": "code",
   "execution_count": 57,
   "id": "7b9a6564",
   "metadata": {},
   "outputs": [
    {
     "name": "stderr",
     "output_type": "stream",
     "text": [
      "/Users/conorkennedy/opt/miniconda3/envs/comp30830/lib/python3.9/site-packages/sklearn/base.py:450: UserWarning: X does not have valid feature names, but RandomForestRegressor was fitted with feature names\n",
      "  warnings.warn(\n",
      "/Users/conorkennedy/opt/miniconda3/envs/comp30830/lib/python3.9/site-packages/sklearn/base.py:450: UserWarning: X does not have valid feature names, but RandomForestRegressor was fitted with feature names\n",
      "  warnings.warn(\n",
      "/Users/conorkennedy/opt/miniconda3/envs/comp30830/lib/python3.9/site-packages/sklearn/base.py:450: UserWarning: X does not have valid feature names, but RandomForestRegressor was fitted with feature names\n",
      "  warnings.warn(\n",
      "/Users/conorkennedy/opt/miniconda3/envs/comp30830/lib/python3.9/site-packages/sklearn/base.py:450: UserWarning: X does not have valid feature names, but RandomForestRegressor was fitted with feature names\n",
      "  warnings.warn(\n",
      "/Users/conorkennedy/opt/miniconda3/envs/comp30830/lib/python3.9/site-packages/sklearn/base.py:450: UserWarning: X does not have valid feature names, but RandomForestRegressor was fitted with feature names\n",
      "  warnings.warn(\n",
      "/Users/conorkennedy/opt/miniconda3/envs/comp30830/lib/python3.9/site-packages/sklearn/base.py:450: UserWarning: X does not have valid feature names, but RandomForestRegressor was fitted with feature names\n",
      "  warnings.warn(\n",
      "/Users/conorkennedy/opt/miniconda3/envs/comp30830/lib/python3.9/site-packages/sklearn/base.py:450: UserWarning: X does not have valid feature names, but RandomForestRegressor was fitted with feature names\n",
      "  warnings.warn(\n",
      "/Users/conorkennedy/opt/miniconda3/envs/comp30830/lib/python3.9/site-packages/sklearn/base.py:450: UserWarning: X does not have valid feature names, but RandomForestRegressor was fitted with feature names\n",
      "  warnings.warn(\n",
      "/Users/conorkennedy/opt/miniconda3/envs/comp30830/lib/python3.9/site-packages/sklearn/base.py:450: UserWarning: X does not have valid feature names, but RandomForestRegressor was fitted with feature names\n",
      "  warnings.warn(\n",
      "/Users/conorkennedy/opt/miniconda3/envs/comp30830/lib/python3.9/site-packages/sklearn/base.py:450: UserWarning: X does not have valid feature names, but RandomForestRegressor was fitted with feature names\n",
      "  warnings.warn(\n",
      "/Users/conorkennedy/opt/miniconda3/envs/comp30830/lib/python3.9/site-packages/sklearn/base.py:450: UserWarning: X does not have valid feature names, but RandomForestRegressor was fitted with feature names\n",
      "  warnings.warn(\n",
      "/Users/conorkennedy/opt/miniconda3/envs/comp30830/lib/python3.9/site-packages/sklearn/base.py:450: UserWarning: X does not have valid feature names, but RandomForestRegressor was fitted with feature names\n",
      "  warnings.warn(\n",
      "/Users/conorkennedy/opt/miniconda3/envs/comp30830/lib/python3.9/site-packages/sklearn/base.py:450: UserWarning: X does not have valid feature names, but RandomForestRegressor was fitted with feature names\n",
      "  warnings.warn(\n",
      "/Users/conorkennedy/opt/miniconda3/envs/comp30830/lib/python3.9/site-packages/sklearn/base.py:450: UserWarning: X does not have valid feature names, but RandomForestRegressor was fitted with feature names\n",
      "  warnings.warn(\n",
      "/Users/conorkennedy/opt/miniconda3/envs/comp30830/lib/python3.9/site-packages/sklearn/base.py:450: UserWarning: X does not have valid feature names, but RandomForestRegressor was fitted with feature names\n",
      "  warnings.warn(\n",
      "/Users/conorkennedy/opt/miniconda3/envs/comp30830/lib/python3.9/site-packages/sklearn/base.py:450: UserWarning: X does not have valid feature names, but RandomForestRegressor was fitted with feature names\n",
      "  warnings.warn(\n",
      "/Users/conorkennedy/opt/miniconda3/envs/comp30830/lib/python3.9/site-packages/sklearn/base.py:450: UserWarning: X does not have valid feature names, but RandomForestRegressor was fitted with feature names\n",
      "  warnings.warn(\n",
      "/Users/conorkennedy/opt/miniconda3/envs/comp30830/lib/python3.9/site-packages/sklearn/base.py:450: UserWarning: X does not have valid feature names, but RandomForestRegressor was fitted with feature names\n",
      "  warnings.warn(\n",
      "/Users/conorkennedy/opt/miniconda3/envs/comp30830/lib/python3.9/site-packages/sklearn/base.py:450: UserWarning: X does not have valid feature names, but RandomForestRegressor was fitted with feature names\n",
      "  warnings.warn(\n",
      "/Users/conorkennedy/opt/miniconda3/envs/comp30830/lib/python3.9/site-packages/sklearn/base.py:450: UserWarning: X does not have valid feature names, but RandomForestRegressor was fitted with feature names\n",
      "  warnings.warn(\n",
      "/Users/conorkennedy/opt/miniconda3/envs/comp30830/lib/python3.9/site-packages/sklearn/base.py:450: UserWarning: X does not have valid feature names, but RandomForestRegressor was fitted with feature names\n",
      "  warnings.warn(\n",
      "/Users/conorkennedy/opt/miniconda3/envs/comp30830/lib/python3.9/site-packages/sklearn/base.py:450: UserWarning: X does not have valid feature names, but RandomForestRegressor was fitted with feature names\n",
      "  warnings.warn(\n",
      "/Users/conorkennedy/opt/miniconda3/envs/comp30830/lib/python3.9/site-packages/sklearn/base.py:450: UserWarning: X does not have valid feature names, but RandomForestRegressor was fitted with feature names\n",
      "  warnings.warn(\n",
      "/Users/conorkennedy/opt/miniconda3/envs/comp30830/lib/python3.9/site-packages/sklearn/base.py:450: UserWarning: X does not have valid feature names, but RandomForestRegressor was fitted with feature names\n",
      "  warnings.warn(\n"
     ]
    }
   ],
   "source": [
    "predictor_list = []\n",
    "\n",
    "for x in time:\n",
    "\n",
    "    model = load('Earlsfort Terrace_model.pkl')\n",
    "    bike_avail_predict = model.predict([[x, 2]])\n",
    "\n",
    "    predict_list = bike_avail_predict.tolist()\n",
    "    predict_dict = {\"bikes\": predict_list[0]}\n",
    "    predictor_list.append(round(predict_list[0], 0))\n",
    "    result = json.dumps(predict_dict)\n",
    "\n",
    "    #print(result)"
   ]
  },
  {
   "cell_type": "code",
   "execution_count": 58,
   "id": "be9805c0",
   "metadata": {},
   "outputs": [
    {
     "name": "stdout",
     "output_type": "stream",
     "text": [
      "[3.0, 3.0, 3.0, 3.0, 3.0, 3.0, 5.0, 8.0, 13.0, 18.0, 18.0, 19.0, 19.0, 18.0, 17.0, 15.0, 12.0, 11.0, 9.0, 8.0, 8.0, 8.0, 6.0, 6.0]\n"
     ]
    }
   ],
   "source": [
    "print(predictor_list)"
   ]
  },
  {
   "cell_type": "code",
   "execution_count": 60,
   "id": "fc232204",
   "metadata": {},
   "outputs": [
    {
     "data": {
      "text/plain": [
       "Text(0.5, 1.0, 'Earlsforth Terrace Station Prediction for different times on a Wednesday')"
      ]
     },
     "execution_count": 60,
     "metadata": {},
     "output_type": "execute_result"
    },
    {
     "data": {
      "image/png": "[encoded data removed]",
      "text/plain": [
       "<Figure size 432x288 with 1 Axes>"
      ]
     },
     "metadata": {
      "needs_background": "light"
     },
     "output_type": "display_data"
    }
   ],
   "source": [
    "plt.plot(time, predictor_list)\n",
    "plt.xlabel('Hour of Day')\n",
    "plt.ylabel('Number of Bikes Predicted')\n",
    "plt.title('Earlsforth Terrace Station Prediction for different times on a Wednesday')"
   ]
  },
  {
   "cell_type": "markdown",
   "id": "55029002",
   "metadata": {},
   "source": [
    "Checking another Station: "
   ]
  },
  {
   "cell_type": "code",
   "execution_count": 63,
   "id": "058432e0",
   "metadata": {},
   "outputs": [],
   "source": [
    "Grange = week_number_10[(week_number_10['Address'] == \"Grangegorman Lower (South)\")]"
   ]
  },
  {
   "cell_type": "code",
   "execution_count": 71,
   "id": "0a0bf84a",
   "metadata": {},
   "outputs": [],
   "source": [
    "Grange_Thur = Grange[(Grange['day_of_week'] == 3)]"
   ]
  },
  {
   "cell_type": "code",
   "execution_count": 100,
   "id": "382810ce",
   "metadata": {},
   "outputs": [
    {
     "data": {
      "text/plain": [
       "Text(0.5, 1.0, 'Grangegorman Lower (South) Station on Thursday, 10th of March')"
      ]
     },
     "execution_count": 100,
     "metadata": {},
     "output_type": "execute_result"
    },
    {
     "data": {
      "image/png": "[encoded data removed]",
      "text/plain": [
       "<Figure size 432x288 with 1 Axes>"
      ]
     },
     "metadata": {
      "needs_background": "light"
     },
     "output_type": "display_data"
    }
   ],
   "source": [
    "plt.plot(Grange_Thur[\"hour_of_day\"],Grange_Thur[\"Available_Bikes\"])\n",
    "plt.xlabel('Hour of Day')\n",
    "plt.ylabel('Number of Bikes')\n",
    "plt.title('Grangegorman Lower (South) Station on Thursday, 10th of March')"
   ]
  },
  {
   "cell_type": "code",
   "execution_count": 97,
   "id": "786b5c00",
   "metadata": {},
   "outputs": [
    {
     "name": "stderr",
     "output_type": "stream",
     "text": [
      "/Users/conorkennedy/opt/miniconda3/envs/comp30830/lib/python3.9/site-packages/sklearn/base.py:450: UserWarning: X does not have valid feature names, but RandomForestRegressor was fitted with feature names\n",
      "  warnings.warn(\n",
      "/Users/conorkennedy/opt/miniconda3/envs/comp30830/lib/python3.9/site-packages/sklearn/base.py:450: UserWarning: X does not have valid feature names, but RandomForestRegressor was fitted with feature names\n",
      "  warnings.warn(\n",
      "/Users/conorkennedy/opt/miniconda3/envs/comp30830/lib/python3.9/site-packages/sklearn/base.py:450: UserWarning: X does not have valid feature names, but RandomForestRegressor was fitted with feature names\n",
      "  warnings.warn(\n",
      "/Users/conorkennedy/opt/miniconda3/envs/comp30830/lib/python3.9/site-packages/sklearn/base.py:450: UserWarning: X does not have valid feature names, but RandomForestRegressor was fitted with feature names\n",
      "  warnings.warn(\n",
      "/Users/conorkennedy/opt/miniconda3/envs/comp30830/lib/python3.9/site-packages/sklearn/base.py:450: UserWarning: X does not have valid feature names, but RandomForestRegressor was fitted with feature names\n",
      "  warnings.warn(\n",
      "/Users/conorkennedy/opt/miniconda3/envs/comp30830/lib/python3.9/site-packages/sklearn/base.py:450: UserWarning: X does not have valid feature names, but RandomForestRegressor was fitted with feature names\n",
      "  warnings.warn(\n",
      "/Users/conorkennedy/opt/miniconda3/envs/comp30830/lib/python3.9/site-packages/sklearn/base.py:450: UserWarning: X does not have valid feature names, but RandomForestRegressor was fitted with feature names\n",
      "  warnings.warn(\n",
      "/Users/conorkennedy/opt/miniconda3/envs/comp30830/lib/python3.9/site-packages/sklearn/base.py:450: UserWarning: X does not have valid feature names, but RandomForestRegressor was fitted with feature names\n",
      "  warnings.warn(\n",
      "/Users/conorkennedy/opt/miniconda3/envs/comp30830/lib/python3.9/site-packages/sklearn/base.py:450: UserWarning: X does not have valid feature names, but RandomForestRegressor was fitted with feature names\n",
      "  warnings.warn(\n",
      "/Users/conorkennedy/opt/miniconda3/envs/comp30830/lib/python3.9/site-packages/sklearn/base.py:450: UserWarning: X does not have valid feature names, but RandomForestRegressor was fitted with feature names\n",
      "  warnings.warn(\n",
      "/Users/conorkennedy/opt/miniconda3/envs/comp30830/lib/python3.9/site-packages/sklearn/base.py:450: UserWarning: X does not have valid feature names, but RandomForestRegressor was fitted with feature names\n",
      "  warnings.warn(\n",
      "/Users/conorkennedy/opt/miniconda3/envs/comp30830/lib/python3.9/site-packages/sklearn/base.py:450: UserWarning: X does not have valid feature names, but RandomForestRegressor was fitted with feature names\n",
      "  warnings.warn(\n",
      "/Users/conorkennedy/opt/miniconda3/envs/comp30830/lib/python3.9/site-packages/sklearn/base.py:450: UserWarning: X does not have valid feature names, but RandomForestRegressor was fitted with feature names\n",
      "  warnings.warn(\n",
      "/Users/conorkennedy/opt/miniconda3/envs/comp30830/lib/python3.9/site-packages/sklearn/base.py:450: UserWarning: X does not have valid feature names, but RandomForestRegressor was fitted with feature names\n",
      "  warnings.warn(\n",
      "/Users/conorkennedy/opt/miniconda3/envs/comp30830/lib/python3.9/site-packages/sklearn/base.py:450: UserWarning: X does not have valid feature names, but RandomForestRegressor was fitted with feature names\n",
      "  warnings.warn(\n",
      "/Users/conorkennedy/opt/miniconda3/envs/comp30830/lib/python3.9/site-packages/sklearn/base.py:450: UserWarning: X does not have valid feature names, but RandomForestRegressor was fitted with feature names\n",
      "  warnings.warn(\n",
      "/Users/conorkennedy/opt/miniconda3/envs/comp30830/lib/python3.9/site-packages/sklearn/base.py:450: UserWarning: X does not have valid feature names, but RandomForestRegressor was fitted with feature names\n",
      "  warnings.warn(\n",
      "/Users/conorkennedy/opt/miniconda3/envs/comp30830/lib/python3.9/site-packages/sklearn/base.py:450: UserWarning: X does not have valid feature names, but RandomForestRegressor was fitted with feature names\n",
      "  warnings.warn(\n",
      "/Users/conorkennedy/opt/miniconda3/envs/comp30830/lib/python3.9/site-packages/sklearn/base.py:450: UserWarning: X does not have valid feature names, but RandomForestRegressor was fitted with feature names\n",
      "  warnings.warn(\n",
      "/Users/conorkennedy/opt/miniconda3/envs/comp30830/lib/python3.9/site-packages/sklearn/base.py:450: UserWarning: X does not have valid feature names, but RandomForestRegressor was fitted with feature names\n",
      "  warnings.warn(\n",
      "/Users/conorkennedy/opt/miniconda3/envs/comp30830/lib/python3.9/site-packages/sklearn/base.py:450: UserWarning: X does not have valid feature names, but RandomForestRegressor was fitted with feature names\n",
      "  warnings.warn(\n",
      "/Users/conorkennedy/opt/miniconda3/envs/comp30830/lib/python3.9/site-packages/sklearn/base.py:450: UserWarning: X does not have valid feature names, but RandomForestRegressor was fitted with feature names\n",
      "  warnings.warn(\n",
      "/Users/conorkennedy/opt/miniconda3/envs/comp30830/lib/python3.9/site-packages/sklearn/base.py:450: UserWarning: X does not have valid feature names, but RandomForestRegressor was fitted with feature names\n",
      "  warnings.warn(\n",
      "/Users/conorkennedy/opt/miniconda3/envs/comp30830/lib/python3.9/site-packages/sklearn/base.py:450: UserWarning: X does not have valid feature names, but RandomForestRegressor was fitted with feature names\n",
      "  warnings.warn(\n"
     ]
    }
   ],
   "source": [
    "predictor_list = []\n",
    "\n",
    "for x in time:\n",
    "\n",
    "    model = load('Grangegorman Lower (South)_model.pkl')\n",
    "    bike_avail_predict = model.predict([[x, 2]])\n",
    "\n",
    "    predict_list = bike_avail_predict.tolist()\n",
    "    predict_dict = {\"bikes\": predict_list[0]}\n",
    "    predictor_list.append(round(predict_list[0], 0))\n",
    "    result = json.dumps(predict_dict)\n",
    "\n",
    "    #print(result)"
   ]
  },
  {
   "cell_type": "code",
   "execution_count": 99,
   "id": "b66c0023",
   "metadata": {},
   "outputs": [
    {
     "data": {
      "text/plain": [
       "Text(0.5, 1.0, 'Grangegorman Lower (South) Prediction for different times on a Thursday')"
      ]
     },
     "execution_count": 99,
     "metadata": {},
     "output_type": "execute_result"
    },
    {
     "data": {
      "image/png": "[encoded data removed]",
      "text/plain": [
       "<Figure size 432x288 with 1 Axes>"
      ]
     },
     "metadata": {
      "needs_background": "light"
     },
     "output_type": "display_data"
    }
   ],
   "source": [
    "plt.plot(time, predictor_list)\n",
    "plt.xlabel('Hour of Day')\n",
    "plt.ylabel('Number of Bikes Predicted')\n",
    "plt.title('Grangegorman Lower (South) Prediction for different times on a Thursday')"
   ]
  },
  {
   "cell_type": "markdown",
   "id": "b6f43b4c",
   "metadata": {},
   "source": [
    "Checking a weekend:"
   ]
  },
  {
   "cell_type": "code",
   "execution_count": 92,
   "id": "57ea4ef6",
   "metadata": {},
   "outputs": [],
   "source": [
    "Broadstone_Street = week_number_10[(week_number_10['Address'] == \"Broadstone\")]"
   ]
  },
  {
   "cell_type": "code",
   "execution_count": 93,
   "id": "bbffc482",
   "metadata": {},
   "outputs": [],
   "source": [
    "Broadstone_Sat = Market_Street[(Market_Street['day_of_week'] == 5)]"
   ]
  },
  {
   "cell_type": "code",
   "execution_count": 94,
   "id": "23ddf0b7",
   "metadata": {},
   "outputs": [
    {
     "data": {
      "text/plain": [
       "Text(0.5, 1.0, 'Broadstone on Saturday, 12th of March')"
      ]
     },
     "execution_count": 94,
     "metadata": {},
     "output_type": "execute_result"
    },
    {
     "data": {
      "image/png": "[encoded data removed]",
      "text/plain": [
       "<Figure size 432x288 with 1 Axes>"
      ]
     },
     "metadata": {
      "needs_background": "light"
     },
     "output_type": "display_data"
    }
   ],
   "source": [
    "plt.plot(Market_Sat[\"hour_of_day\"],Market_Sat[\"Available_Bikes\"])\n",
    "plt.xlabel('Hour of Day')\n",
    "plt.ylabel('Number of Bikes')\n",
    "plt.title('Broadstone on Saturday, 12th of March')"
   ]
  },
  {
   "cell_type": "code",
   "execution_count": 90,
   "id": "061a640a",
   "metadata": {},
   "outputs": [
    {
     "name": "stderr",
     "output_type": "stream",
     "text": [
      "/Users/conorkennedy/opt/miniconda3/envs/comp30830/lib/python3.9/site-packages/sklearn/base.py:450: UserWarning: X does not have valid feature names, but RandomForestRegressor was fitted with feature names\n",
      "  warnings.warn(\n",
      "/Users/conorkennedy/opt/miniconda3/envs/comp30830/lib/python3.9/site-packages/sklearn/base.py:450: UserWarning: X does not have valid feature names, but RandomForestRegressor was fitted with feature names\n",
      "  warnings.warn(\n",
      "/Users/conorkennedy/opt/miniconda3/envs/comp30830/lib/python3.9/site-packages/sklearn/base.py:450: UserWarning: X does not have valid feature names, but RandomForestRegressor was fitted with feature names\n",
      "  warnings.warn(\n",
      "/Users/conorkennedy/opt/miniconda3/envs/comp30830/lib/python3.9/site-packages/sklearn/base.py:450: UserWarning: X does not have valid feature names, but RandomForestRegressor was fitted with feature names\n",
      "  warnings.warn(\n",
      "/Users/conorkennedy/opt/miniconda3/envs/comp30830/lib/python3.9/site-packages/sklearn/base.py:450: UserWarning: X does not have valid feature names, but RandomForestRegressor was fitted with feature names\n",
      "  warnings.warn(\n",
      "/Users/conorkennedy/opt/miniconda3/envs/comp30830/lib/python3.9/site-packages/sklearn/base.py:450: UserWarning: X does not have valid feature names, but RandomForestRegressor was fitted with feature names\n",
      "  warnings.warn(\n",
      "/Users/conorkennedy/opt/miniconda3/envs/comp30830/lib/python3.9/site-packages/sklearn/base.py:450: UserWarning: X does not have valid feature names, but RandomForestRegressor was fitted with feature names\n",
      "  warnings.warn(\n",
      "/Users/conorkennedy/opt/miniconda3/envs/comp30830/lib/python3.9/site-packages/sklearn/base.py:450: UserWarning: X does not have valid feature names, but RandomForestRegressor was fitted with feature names\n",
      "  warnings.warn(\n",
      "/Users/conorkennedy/opt/miniconda3/envs/comp30830/lib/python3.9/site-packages/sklearn/base.py:450: UserWarning: X does not have valid feature names, but RandomForestRegressor was fitted with feature names\n",
      "  warnings.warn(\n",
      "/Users/conorkennedy/opt/miniconda3/envs/comp30830/lib/python3.9/site-packages/sklearn/base.py:450: UserWarning: X does not have valid feature names, but RandomForestRegressor was fitted with feature names\n",
      "  warnings.warn(\n",
      "/Users/conorkennedy/opt/miniconda3/envs/comp30830/lib/python3.9/site-packages/sklearn/base.py:450: UserWarning: X does not have valid feature names, but RandomForestRegressor was fitted with feature names\n",
      "  warnings.warn(\n",
      "/Users/conorkennedy/opt/miniconda3/envs/comp30830/lib/python3.9/site-packages/sklearn/base.py:450: UserWarning: X does not have valid feature names, but RandomForestRegressor was fitted with feature names\n",
      "  warnings.warn(\n",
      "/Users/conorkennedy/opt/miniconda3/envs/comp30830/lib/python3.9/site-packages/sklearn/base.py:450: UserWarning: X does not have valid feature names, but RandomForestRegressor was fitted with feature names\n",
      "  warnings.warn(\n",
      "/Users/conorkennedy/opt/miniconda3/envs/comp30830/lib/python3.9/site-packages/sklearn/base.py:450: UserWarning: X does not have valid feature names, but RandomForestRegressor was fitted with feature names\n",
      "  warnings.warn(\n",
      "/Users/conorkennedy/opt/miniconda3/envs/comp30830/lib/python3.9/site-packages/sklearn/base.py:450: UserWarning: X does not have valid feature names, but RandomForestRegressor was fitted with feature names\n",
      "  warnings.warn(\n",
      "/Users/conorkennedy/opt/miniconda3/envs/comp30830/lib/python3.9/site-packages/sklearn/base.py:450: UserWarning: X does not have valid feature names, but RandomForestRegressor was fitted with feature names\n",
      "  warnings.warn(\n",
      "/Users/conorkennedy/opt/miniconda3/envs/comp30830/lib/python3.9/site-packages/sklearn/base.py:450: UserWarning: X does not have valid feature names, but RandomForestRegressor was fitted with feature names\n",
      "  warnings.warn(\n",
      "/Users/conorkennedy/opt/miniconda3/envs/comp30830/lib/python3.9/site-packages/sklearn/base.py:450: UserWarning: X does not have valid feature names, but RandomForestRegressor was fitted with feature names\n",
      "  warnings.warn(\n",
      "/Users/conorkennedy/opt/miniconda3/envs/comp30830/lib/python3.9/site-packages/sklearn/base.py:450: UserWarning: X does not have valid feature names, but RandomForestRegressor was fitted with feature names\n",
      "  warnings.warn(\n",
      "/Users/conorkennedy/opt/miniconda3/envs/comp30830/lib/python3.9/site-packages/sklearn/base.py:450: UserWarning: X does not have valid feature names, but RandomForestRegressor was fitted with feature names\n",
      "  warnings.warn(\n",
      "/Users/conorkennedy/opt/miniconda3/envs/comp30830/lib/python3.9/site-packages/sklearn/base.py:450: UserWarning: X does not have valid feature names, but RandomForestRegressor was fitted with feature names\n",
      "  warnings.warn(\n",
      "/Users/conorkennedy/opt/miniconda3/envs/comp30830/lib/python3.9/site-packages/sklearn/base.py:450: UserWarning: X does not have valid feature names, but RandomForestRegressor was fitted with feature names\n",
      "  warnings.warn(\n",
      "/Users/conorkennedy/opt/miniconda3/envs/comp30830/lib/python3.9/site-packages/sklearn/base.py:450: UserWarning: X does not have valid feature names, but RandomForestRegressor was fitted with feature names\n",
      "  warnings.warn(\n",
      "/Users/conorkennedy/opt/miniconda3/envs/comp30830/lib/python3.9/site-packages/sklearn/base.py:450: UserWarning: X does not have valid feature names, but RandomForestRegressor was fitted with feature names\n",
      "  warnings.warn(\n"
     ]
    }
   ],
   "source": [
    "predictor_list = []\n",
    "\n",
    "for x in time:\n",
    "\n",
    "    model = load('Broadstone_model.pkl')\n",
    "    bike_avail_predict = model.predict([[x, 2]])\n",
    "\n",
    "    predict_list = bike_avail_predict.tolist()\n",
    "    predict_dict = {\"bikes\": predict_list[0]}\n",
    "    predictor_list.append(round(predict_list[0], 0))\n",
    "    result = json.dumps(predict_dict)\n",
    "\n",
    "    #print(result)"
   ]
  },
  {
   "cell_type": "code",
   "execution_count": 95,
   "id": "2999e93a",
   "metadata": {},
   "outputs": [
    {
     "data": {
      "text/plain": [
       "Text(0.5, 1.0, 'Broadstone Station prediction for a Saturday')"
      ]
     },
     "execution_count": 95,
     "metadata": {},
     "output_type": "execute_result"
    },
    {
     "data": {
      "image/png": "[encoded data removed]",
      "text/plain": [
       "<Figure size 432x288 with 1 Axes>"
      ]
     },
     "metadata": {
      "needs_background": "light"
     },
     "output_type": "display_data"
    }
   ],
   "source": [
    "plt.plot(time, predictor_list)\n",
    "plt.xlabel('Hour of Day')\n",
    "plt.ylabel('Number of Bikes Predicted')\n",
    "plt.title('Broadstone Station prediction for a Saturday')"
   ]
  },
  {
   "cell_type": "code",
   "execution_count": null,
   "id": "355355d4",
   "metadata": {},
   "outputs": [],
   "source": []
  }
 ],
 "metadata": {
  "kernelspec": {
   "display_name": "Python 3 (ipykernel)",
   "language": "python",
   "name": "python3"
  },
  "language_info": {
   "codemirror_mode": {
    "name": "ipython",
    "version": 3
   },
   "file_extension": ".py",
   "mimetype": "text/x-python",
   "name": "python",
   "nbconvert_exporter": "python",
   "pygments_lexer": "ipython3",
   "version": "3.9.7"
  }
 },
 "nbformat": 4,
 "nbformat_minor": 5
}
